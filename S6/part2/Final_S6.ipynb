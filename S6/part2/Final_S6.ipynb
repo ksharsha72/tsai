{
  "nbformat": 4,
  "nbformat_minor": 0,
  "metadata": {
    "colab": {
      "provenance": [],
      "gpuType": "T4"
    },
    "kernelspec": {
      "name": "python3",
      "display_name": "Python 3"
    },
    "language_info": {
      "name": "python"
    },
    "accelerator": "GPU"
  },
  "cells": [
    {
      "cell_type": "code",
      "execution_count": 1,
      "metadata": {
        "id": "HlDZ-AX9rGe-"
      },
      "outputs": [],
      "source": [
        "import torch\n",
        "import torch.nn as nn\n",
        "import torch.nn.functional as F\n",
        "import torch.optim as optim\n",
        "import numpy as np\n",
        "import pandas as pd\n",
        "from torchvision import datasets,transforms"
      ]
    },
    {
      "cell_type": "code",
      "source": [
        "import matplotlib.pyplot as plt"
      ],
      "metadata": {
        "id": "UQDoVwEkzy29"
      },
      "execution_count": 2,
      "outputs": []
    },
    {
      "cell_type": "code",
      "source": [
        "train_transforms = transforms.Compose([transforms.CenterCrop(24),transforms.Resize(28),transforms.ToTensor(),transforms.Normalize((0.1307,),(0.3081))])\n",
        "test_transforms = transforms.Compose([transforms.ToTensor(),transforms.Normalize((0.1307,),(0.3081,))])"
      ],
      "metadata": {
        "id": "djrq0jZAtKDc"
      },
      "execution_count": 3,
      "outputs": []
    },
    {
      "cell_type": "code",
      "source": [
        "train_set = datasets.MNIST('../data',train=True,download=True,transform=train_transforms)\n",
        "test_set = datasets.MNIST('../data',train=False,download=True,transform=test_transforms)"
      ],
      "metadata": {
        "id": "2BlNoXQXwfvZ",
        "colab": {
          "base_uri": "https://localhost:8080/"
        },
        "outputId": "0191c49f-b727-43d7-a4c4-1465047a2575"
      },
      "execution_count": 4,
      "outputs": [
        {
          "output_type": "stream",
          "name": "stdout",
          "text": [
            "Downloading http://yann.lecun.com/exdb/mnist/train-images-idx3-ubyte.gz\n",
            "Downloading http://yann.lecun.com/exdb/mnist/train-images-idx3-ubyte.gz to ../data/MNIST/raw/train-images-idx3-ubyte.gz\n"
          ]
        },
        {
          "output_type": "stream",
          "name": "stderr",
          "text": [
            "100%|██████████| 9912422/9912422 [00:00<00:00, 312402026.12it/s]"
          ]
        },
        {
          "output_type": "stream",
          "name": "stdout",
          "text": [
            "Extracting ../data/MNIST/raw/train-images-idx3-ubyte.gz to ../data/MNIST/raw\n"
          ]
        },
        {
          "output_type": "stream",
          "name": "stderr",
          "text": [
            "\n"
          ]
        },
        {
          "output_type": "stream",
          "name": "stdout",
          "text": [
            "\n",
            "Downloading http://yann.lecun.com/exdb/mnist/train-labels-idx1-ubyte.gz\n",
            "Downloading http://yann.lecun.com/exdb/mnist/train-labels-idx1-ubyte.gz to ../data/MNIST/raw/train-labels-idx1-ubyte.gz\n"
          ]
        },
        {
          "output_type": "stream",
          "name": "stderr",
          "text": [
            "100%|██████████| 28881/28881 [00:00<00:00, 9469644.61it/s]\n"
          ]
        },
        {
          "output_type": "stream",
          "name": "stdout",
          "text": [
            "Extracting ../data/MNIST/raw/train-labels-idx1-ubyte.gz to ../data/MNIST/raw\n",
            "\n",
            "Downloading http://yann.lecun.com/exdb/mnist/t10k-images-idx3-ubyte.gz\n",
            "Downloading http://yann.lecun.com/exdb/mnist/t10k-images-idx3-ubyte.gz to ../data/MNIST/raw/t10k-images-idx3-ubyte.gz\n"
          ]
        },
        {
          "output_type": "stream",
          "name": "stderr",
          "text": [
            "100%|██████████| 1648877/1648877 [00:00<00:00, 123240575.88it/s]"
          ]
        },
        {
          "output_type": "stream",
          "name": "stdout",
          "text": [
            "Extracting ../data/MNIST/raw/t10k-images-idx3-ubyte.gz to ../data/MNIST/raw\n",
            "\n",
            "Downloading http://yann.lecun.com/exdb/mnist/t10k-labels-idx1-ubyte.gz\n"
          ]
        },
        {
          "output_type": "stream",
          "name": "stderr",
          "text": [
            "\n"
          ]
        },
        {
          "output_type": "stream",
          "name": "stdout",
          "text": [
            "Downloading http://yann.lecun.com/exdb/mnist/t10k-labels-idx1-ubyte.gz to ../data/MNIST/raw/t10k-labels-idx1-ubyte.gz\n"
          ]
        },
        {
          "output_type": "stream",
          "name": "stderr",
          "text": [
            "100%|██████████| 4542/4542 [00:00<00:00, 15375729.43it/s]\n"
          ]
        },
        {
          "output_type": "stream",
          "name": "stdout",
          "text": [
            "Extracting ../data/MNIST/raw/t10k-labels-idx1-ubyte.gz to ../data/MNIST/raw\n",
            "\n"
          ]
        }
      ]
    },
    {
      "cell_type": "code",
      "source": [
        "batch_size  = 64\n",
        "train_loader = torch.utils.data.DataLoader(train_set,batch_size=batch_size,shuffle=True)\n",
        "test_loader = torch.utils.data.DataLoader(test_set,batch_size=batch_size,shuffle=False)"
      ],
      "metadata": {
        "id": "eA6tLt08xYb8"
      },
      "execution_count": 5,
      "outputs": []
    },
    {
      "cell_type": "code",
      "source": [
        "\n",
        "def show_imgs(imgs,labels):\n",
        "  fig = plt.figure(figsize=(5,5))\n",
        "  axs = fig.subplots(4,7)\n",
        "  for i in range(4):\n",
        "    for j in range(7):\n",
        "      axs[i][j].imshow(imgs[i+j].reshape(28,28),cmap='gray')\n",
        "      axs[i][j].set_xlabel(labels[i+j].item())\n",
        "      axs[i][j].tick_params(left=False,bottom=False,labelleft=False,labelbottom=False,right=False)\n",
        "  plt.show()\n",
        "\n",
        "\n",
        "\n",
        "\n"
      ],
      "metadata": {
        "id": "oGH3s5QBbvA0"
      },
      "execution_count": 6,
      "outputs": []
    },
    {
      "cell_type": "code",
      "source": [
        "imgs,lbls = next(iter(train_loader))"
      ],
      "metadata": {
        "id": "4yXyvKlbxo1K"
      },
      "execution_count": 7,
      "outputs": []
    },
    {
      "cell_type": "code",
      "source": [
        "show_imgs(imgs,lbls)"
      ],
      "metadata": {
        "colab": {
          "base_uri": "https://localhost:8080/",
          "height": 405
        },
        "id": "LQNkIQi5eCbc",
        "outputId": "125f1920-e949-4707-ff9f-f5033afb58c9"
      },
      "execution_count": 8,
      "outputs": [
        {
          "output_type": "display_data",
          "data": {
            "text/plain": [
              "<Figure size 500x500 with 28 Axes>"
            ],
            "image/png": "[encoded data removed]"
          },
          "metadata": {}
        }
      ]
    },
    {
      "cell_type": "code",
      "source": [
        "plt.imshow(imgs[1].reshape(28,28),cmap='gray')\n"
      ],
      "metadata": {
        "colab": {
          "base_uri": "https://localhost:8080/",
          "height": 447
        },
        "id": "HhBhphp6ykJy",
        "outputId": "d861f2b7-08fe-4302-8784-fa7c9e383426"
      },
      "execution_count": 9,
      "outputs": [
        {
          "output_type": "execute_result",
          "data": {
            "text/plain": [
              "<matplotlib.image.AxesImage at 0x7c5dfe721990>"
            ]
          },
          "metadata": {},
          "execution_count": 9
        },
        {
          "output_type": "display_data",
          "data": {
            "text/plain": [
              "<Figure size 640x480 with 1 Axes>"
            ],
            "image/png": "[encoded data removed]"
          },
          "metadata": {}
        }
      ]
    },
    {
      "cell_type": "code",
      "source": [
        "# class MNet(nn.Module):\n",
        "#   def __init__(self):\n",
        "#     super(MNet,self).__init__()\n",
        "#     self.conv1 = nn.Conv2d(1,64,3)\n",
        "#     self.conv2 = nn.Conv2d(64,128,1)\n",
        "#     self.pool1 = nn.MaxPool2d(2,2)\n",
        "#     self.conv3 = nn.Conv2d(128,64,1)\n",
        "#     self.bt_nm = nn.BatchNorm2d(64)\n",
        "#     self.conv4 = nn.Conv2d(64,32,1)\n",
        "#     self.gav1 = nn.AvgPool2d(13)\n",
        "#     self.conv5 = nn.Conv2d(32,10,1)\n",
        "\n",
        "#   def forward(self,x):\n",
        "#     x = self.pool1(F.relu(self.conv2(F.relu(self.conv1(x)))))\n",
        "#     x = self.bt_nm(F.relu(self.conv3(x)))\n",
        "#     x = F.relu(self.conv5(self.gav1(F.relu(self.conv4(x)))))\n",
        "#     x = x.view(-1,10)\n",
        "#     return F.log_softmax(x)\n"
      ],
      "metadata": {
        "id": "wfqZQ-tF0LWo"
      },
      "execution_count": 10,
      "outputs": []
    },
    {
      "cell_type": "code",
      "source": [
        "# !pip install torchsummary\n",
        "# from torchsummary import summary\n",
        "# use_cuda = torch.cuda.is_available()\n",
        "# device = torch.device(\"cuda\" if use_cuda else \"cpu\")\n",
        "# model = MNet().to(device)\n",
        "# summary(model, input_size=(1, 28, 28))"
      ],
      "metadata": {
        "id": "_M_Z8NFz0N41"
      },
      "execution_count": 11,
      "outputs": []
    },
    {
      "cell_type": "code",
      "source": [
        "!pip install tqdm"
      ],
      "metadata": {
        "colab": {
          "base_uri": "https://localhost:8080/"
        },
        "id": "LAXpmuk-0cOu",
        "outputId": "ba8ce29d-b042-453d-bb75-3095d3bbc4e3"
      },
      "execution_count": 12,
      "outputs": [
        {
          "output_type": "stream",
          "name": "stdout",
          "text": [
            "Requirement already satisfied: tqdm in /usr/local/lib/python3.10/dist-packages (4.65.0)\n"
          ]
        }
      ]
    },
    {
      "cell_type": "code",
      "source": [
        "\n",
        "# Data to plot accuracy and loss graphs\n",
        "train_losses = []\n",
        "test_losses = []\n",
        "train_acc = []\n",
        "test_acc = []\n",
        "\n",
        "test_incorrect_pred = {'images': [], 'ground_truths': [], 'predicted_vals': []}\n"
      ],
      "metadata": {
        "id": "OMlptX8G66o0"
      },
      "execution_count": 13,
      "outputs": []
    },
    {
      "cell_type": "code",
      "source": [
        "from tqdm import tqdm\n",
        "\n",
        "def GetCorrectPredCount(pPrediction, pLabels):\n",
        "  return pPrediction.argmax(dim=1).eq(pLabels).sum().item()\n",
        "\n",
        "def train(model, device, train_loader, optimizer, criterion):\n",
        "  model.train()\n",
        "  pbar = tqdm(train_loader)\n",
        "\n",
        "  train_loss = 0\n",
        "  correct = 0\n",
        "  processed = 0\n",
        "\n",
        "  for batch_idx, (data, target) in enumerate(pbar):\n",
        "    data, target = data.to(device), target.to(device)\n",
        "    optimizer.zero_grad()\n",
        "\n",
        "    # Predict\n",
        "    pred = model(data)\n",
        "\n",
        "    # Calculate loss\n",
        "    loss = criterion(pred, target)\n",
        "    train_loss+=loss.item()\n",
        "\n",
        "    # Backpropagation\n",
        "    loss.backward()\n",
        "    optimizer.step()\n",
        "\n",
        "    correct += GetCorrectPredCount(pred, target)\n",
        "    processed += len(data)\n",
        "\n",
        "    pbar.set_description(desc= f'Train: Loss={loss.item():0.4f} Batch_id={batch_idx} Accuracy={100*correct/processed:0.2f}')\n",
        "\n",
        "  train_acc.append(100*correct/processed)\n",
        "  train_losses.append(train_loss/len(train_loader))\n",
        "\n",
        "\n",
        "def test(model, device, test_loader, criterion):\n",
        "    model.eval()\n",
        "\n",
        "    test_loss = 0\n",
        "    correct = 0\n",
        "\n",
        "    with torch.no_grad():\n",
        "        for batch_idx, (data, target) in enumerate(test_loader):\n",
        "            data, target = data.to(device), target.to(device)\n",
        "\n",
        "            output = model(data)\n",
        "            test_loss += criterion(output, target).item()  # sum up batch loss\n",
        "\n",
        "            correct += GetCorrectPredCount(output, target)\n",
        "\n",
        "\n",
        "    test_loss /= len(test_loader.dataset)\n",
        "    test_acc.append(100. * correct / len(test_loader.dataset))\n",
        "    test_losses.append(test_loss)\n",
        "\n",
        "    print('Test set: Average loss: {:.4f}, Accuracy: {}/{} ({:.2f}%)\\n'.format(\n",
        "        test_loss, correct, len(test_loader.dataset),\n",
        "        100. * correct / len(test_loader.dataset)))"
      ],
      "metadata": {
        "id": "4bUuebyh0iBC"
      },
      "execution_count": 14,
      "outputs": []
    },
    {
      "cell_type": "code",
      "source": [
        "# model = MNet().to(device)\n",
        "# optimizer = optim.SGD(model.parameters(), lr=0.01, momentum=0.9)\n",
        "# scheduler = optim.lr_scheduler.StepLR(optimizer, step_size=15, gamma=0.1, verbose=True)\n",
        "# # New Line\n",
        "# criterion = nn.CrossEntropyLoss(reduction=\"sum\")\n",
        "# num_epochs = 20\n",
        "# for epoch in range(1, num_epochs+1):\n",
        "#   print(f'Epoch {epoch}')\n",
        "#   train(model, device, train_loader, optimizer, criterion)\n",
        "#   test(model, device, train_loader, criterion)\n",
        "#   scheduler.step()"
      ],
      "metadata": {
        "id": "9NMD7i5G4v00"
      },
      "execution_count": 15,
      "outputs": []
    },
    {
      "cell_type": "code",
      "source": [
        "# class MNet2(nn.Module):\n",
        "#   def __init__(self):\n",
        "#     super(MNet2,self).__init__()\n",
        "#     self.conv1 = nn.Conv2d(1,32,3)\n",
        "#     self.conv2 = nn.Conv2d(32,36,3)\n",
        "#     self.pool1 = nn.MaxPool2d(2,2)\n",
        "#     self.conv3 = nn.Conv2d(36,24,3)\n",
        "#     self.bt_nm = nn.BatchNorm2d(24)\n",
        "#     self.conv4 = nn.Conv2d(24,16,1)\n",
        "#     self.conv5 = nn.Conv2d(16,10,1)\n",
        "#     self.gav1 = nn.AvgPool2d(10)\n",
        "\n",
        "#   def forward(self,x):\n",
        "#     x = self.pool1(F.relu(self.conv2(F.relu(self.conv1(x)))))\n",
        "#     x = self.bt_nm(F.relu(self.conv3(x)))\n",
        "#     x = self.gav1(F.relu(self.conv5(F.relu(self.conv4(x)))))\n",
        "#     x = x.view(-1,10)\n",
        "#     return F.log_softmax(x,dim=1)"
      ],
      "metadata": {
        "id": "FLUp1Is64vWW"
      },
      "execution_count": 16,
      "outputs": []
    },
    {
      "cell_type": "code",
      "source": [
        "# !pip install torchsummary\n",
        "# from torchsummary import summary\n",
        "# use_cuda = torch.cuda.is_available()\n",
        "# device = torch.device(\"cuda\" if use_cuda else \"cpu\")\n",
        "# model = MNet2().to(device)\n",
        "# summary(model, input_size=(1, 28, 28))\n"
      ],
      "metadata": {
        "id": "5acCeD1m7VgQ"
      },
      "execution_count": 17,
      "outputs": []
    },
    {
      "cell_type": "code",
      "source": [
        "# model = MNet2().to(device)\n",
        "# optimizer = optim.SGD(model.parameters(), lr=0.01, momentum=0.9)\n",
        "# scheduler = optim.lr_scheduler.StepLR(optimizer, step_size=15, gamma=0.1, verbose=True)\n",
        "# # New Line\n",
        "# criterion = nn.CrossEntropyLoss(reduction=\"sum\")\n",
        "# num_epochs = 20\n",
        "# for epoch in range(1, num_epochs+1):\n",
        "#   print(f'Epoch {epoch}')\n",
        "#   train(model, device, train_loader, optimizer, criterion)\n",
        "#   test(model, device, train_loader, criterion)\n",
        "#   scheduler.step()"
      ],
      "metadata": {
        "id": "B_LPajor0aOE"
      },
      "execution_count": 18,
      "outputs": []
    },
    {
      "cell_type": "code",
      "source": [
        "class MNet3(nn.Module):\n",
        "  def __init__(self):\n",
        "    super(MNet3,self).__init__()\n",
        "    self.conv1 = nn.Conv2d(1,32,3)\n",
        "    self.conv2 = nn.Conv2d(32,28,3)\n",
        "    self.bt_nm1 = nn.BatchNorm2d(28)\n",
        "    self.pool1 = nn.MaxPool2d(2,2)\n",
        "    self.conv3 = nn.Conv2d(28,24,3)\n",
        "    self.conv4 = nn.Conv2d(24,20,3)\n",
        "    self.bt_nm = nn.BatchNorm2d(20)\n",
        "    self.drop2 = nn.Dropout(0.15)\n",
        "    self.conv5 = nn.Conv2d(20,16,1)\n",
        "    self.conv6 = nn.Conv2d(16,10,1)\n",
        "    self.gav1 = nn.AvgPool2d(8)\n",
        "\n",
        "  def forward(self,x):\n",
        "    x = self.pool1(self.bt_nm1(F.relu(self.conv2(F.relu(self.conv1(x))))))\n",
        "    x = self.drop2(self.bt_nm(F.relu(self.conv4((F.relu(self.conv3(x)))))))\n",
        "    x = self.gav1(F.relu(self.conv6((F.relu(self.conv5(x))))))\n",
        "    x = x.view(-1,10)\n",
        "    return F.log_softmax(x,dim=1)"
      ],
      "metadata": {
        "id": "gm0Ckr_DzvuQ"
      },
      "execution_count": 24,
      "outputs": []
    },
    {
      "cell_type": "code",
      "source": [
        "!pip install torchsummary\n",
        "from torchsummary import summary\n",
        "use_cuda = torch.cuda.is_available()\n",
        "device = torch.device(\"cuda\" if use_cuda else \"cpu\")\n",
        "model = MNet3().to(device)\n",
        "summary(model, input_size=(1, 28, 28))"
      ],
      "metadata": {
        "id": "I8JJaaHjC2t_",
        "colab": {
          "base_uri": "https://localhost:8080/"
        },
        "outputId": "76ac7f8f-48e5-4f22-92e8-a7afbcf14def"
      },
      "execution_count": 25,
      "outputs": [
        {
          "output_type": "stream",
          "name": "stdout",
          "text": [
            "Requirement already satisfied: torchsummary in /usr/local/lib/python3.10/dist-packages (1.5.1)\n",
            "----------------------------------------------------------------\n",
            "        Layer (type)               Output Shape         Param #\n",
            "================================================================\n",
            "            Conv2d-1           [-1, 32, 26, 26]             320\n",
            "            Conv2d-2           [-1, 28, 24, 24]           8,092\n",
            "       BatchNorm2d-3           [-1, 28, 24, 24]              56\n",
            "         MaxPool2d-4           [-1, 28, 12, 12]               0\n",
            "            Conv2d-5           [-1, 24, 10, 10]           6,072\n",
            "            Conv2d-6             [-1, 20, 8, 8]           4,340\n",
            "       BatchNorm2d-7             [-1, 20, 8, 8]              40\n",
            "           Dropout-8             [-1, 20, 8, 8]               0\n",
            "            Conv2d-9             [-1, 16, 8, 8]             336\n",
            "           Conv2d-10             [-1, 10, 8, 8]             170\n",
            "        AvgPool2d-11             [-1, 10, 1, 1]               0\n",
            "================================================================\n",
            "Total params: 19,426\n",
            "Trainable params: 19,426\n",
            "Non-trainable params: 0\n",
            "----------------------------------------------------------------\n",
            "Input size (MB): 0.00\n",
            "Forward/backward pass size (MB): 0.50\n",
            "Params size (MB): 0.07\n",
            "Estimated Total Size (MB): 0.58\n",
            "----------------------------------------------------------------\n"
          ]
        }
      ]
    },
    {
      "cell_type": "code",
      "source": [
        "\n",
        "model = MNet3().to(device)\n",
        "optimizer = optim.SGD(model.parameters(), lr=0.01, momentum=0.9)\n",
        "scheduler = optim.lr_scheduler.StepLR(optimizer, step_size=10, gamma=0.1, verbose=True)\n",
        "# New Line\n",
        "criterion = nn.CrossEntropyLoss(reduction=\"sum\")\n",
        "num_epochs = 20\n",
        "for epoch in range(1, num_epochs+1):\n",
        "  print(f'Epoch {epoch}')\n",
        "  train(model, device, train_loader, optimizer, criterion)\n",
        "  test(model, device, train_loader, criterion)\n",
        "  scheduler.step()"
      ],
      "metadata": {
        "id": "ZcnUK_GJ-CQI",
        "colab": {
          "base_uri": "https://localhost:8080/"
        },
        "outputId": "8e261286-d580-4533-d5db-4d052b1422a9"
      },
      "execution_count": 26,
      "outputs": [
        {
          "output_type": "stream",
          "name": "stdout",
          "text": [
            "Adjusting learning rate of group 0 to 1.0000e-02.\n",
            "Epoch 1\n"
          ]
        },
        {
          "output_type": "stream",
          "name": "stderr",
          "text": [
            "Train: Loss=4.4170 Batch_id=937 Accuracy=83.25: 100%|██████████| 938/938 [00:29<00:00, 32.22it/s]\n"
          ]
        },
        {
          "output_type": "stream",
          "name": "stdout",
          "text": [
            "Test set: Average loss: 0.2460, Accuracy: 55478/60000 (92.46%)\n",
            "\n",
            "Adjusting learning rate of group 0 to 1.0000e-02.\n",
            "Epoch 2\n"
          ]
        },
        {
          "output_type": "stream",
          "name": "stderr",
          "text": [
            "Train: Loss=3.8180 Batch_id=937 Accuracy=94.19: 100%|██████████| 938/938 [00:30<00:00, 30.57it/s]\n"
          ]
        },
        {
          "output_type": "stream",
          "name": "stdout",
          "text": [
            "Test set: Average loss: 0.1473, Accuracy: 57511/60000 (95.85%)\n",
            "\n",
            "Adjusting learning rate of group 0 to 1.0000e-02.\n",
            "Epoch 3\n"
          ]
        },
        {
          "output_type": "stream",
          "name": "stderr",
          "text": [
            "Train: Loss=0.4788 Batch_id=937 Accuracy=95.93: 100%|██████████| 938/938 [00:30<00:00, 30.43it/s]\n"
          ]
        },
        {
          "output_type": "stream",
          "name": "stdout",
          "text": [
            "Test set: Average loss: 0.0730, Accuracy: 58784/60000 (97.97%)\n",
            "\n",
            "Adjusting learning rate of group 0 to 1.0000e-02.\n",
            "Epoch 4\n"
          ]
        },
        {
          "output_type": "stream",
          "name": "stderr",
          "text": [
            "Train: Loss=0.7154 Batch_id=937 Accuracy=96.50: 100%|██████████| 938/938 [00:29<00:00, 31.77it/s]\n"
          ]
        },
        {
          "output_type": "stream",
          "name": "stdout",
          "text": [
            "Test set: Average loss: 0.1404, Accuracy: 57655/60000 (96.09%)\n",
            "\n",
            "Adjusting learning rate of group 0 to 1.0000e-02.\n",
            "Epoch 5\n"
          ]
        },
        {
          "output_type": "stream",
          "name": "stderr",
          "text": [
            "Train: Loss=5.9756 Batch_id=937 Accuracy=96.98: 100%|██████████| 938/938 [00:30<00:00, 31.26it/s]\n"
          ]
        },
        {
          "output_type": "stream",
          "name": "stdout",
          "text": [
            "Test set: Average loss: 0.0834, Accuracy: 58536/60000 (97.56%)\n",
            "\n",
            "Adjusting learning rate of group 0 to 1.0000e-02.\n",
            "Epoch 6\n"
          ]
        },
        {
          "output_type": "stream",
          "name": "stderr",
          "text": [
            "Train: Loss=5.8467 Batch_id=937 Accuracy=96.97: 100%|██████████| 938/938 [00:29<00:00, 31.29it/s]\n"
          ]
        },
        {
          "output_type": "stream",
          "name": "stdout",
          "text": [
            "Test set: Average loss: 0.0867, Accuracy: 58495/60000 (97.49%)\n",
            "\n",
            "Adjusting learning rate of group 0 to 1.0000e-02.\n",
            "Epoch 7\n"
          ]
        },
        {
          "output_type": "stream",
          "name": "stderr",
          "text": [
            "Train: Loss=1.4844 Batch_id=937 Accuracy=97.36: 100%|██████████| 938/938 [00:29<00:00, 31.98it/s]\n"
          ]
        },
        {
          "output_type": "stream",
          "name": "stdout",
          "text": [
            "Test set: Average loss: 0.0839, Accuracy: 58614/60000 (97.69%)\n",
            "\n",
            "Adjusting learning rate of group 0 to 1.0000e-02.\n",
            "Epoch 8\n"
          ]
        },
        {
          "output_type": "stream",
          "name": "stderr",
          "text": [
            "Train: Loss=0.1707 Batch_id=937 Accuracy=97.50: 100%|██████████| 938/938 [00:30<00:00, 31.13it/s]\n"
          ]
        },
        {
          "output_type": "stream",
          "name": "stdout",
          "text": [
            "Test set: Average loss: 0.0465, Accuracy: 59138/60000 (98.56%)\n",
            "\n",
            "Adjusting learning rate of group 0 to 1.0000e-02.\n",
            "Epoch 9\n"
          ]
        },
        {
          "output_type": "stream",
          "name": "stderr",
          "text": [
            "Train: Loss=1.6927 Batch_id=937 Accuracy=97.74: 100%|██████████| 938/938 [00:29<00:00, 31.58it/s]\n"
          ]
        },
        {
          "output_type": "stream",
          "name": "stdout",
          "text": [
            "Test set: Average loss: 0.0528, Accuracy: 59096/60000 (98.49%)\n",
            "\n",
            "Adjusting learning rate of group 0 to 1.0000e-02.\n",
            "Epoch 10\n"
          ]
        },
        {
          "output_type": "stream",
          "name": "stderr",
          "text": [
            "Train: Loss=11.2724 Batch_id=937 Accuracy=97.73: 100%|██████████| 938/938 [00:29<00:00, 32.02it/s]\n"
          ]
        },
        {
          "output_type": "stream",
          "name": "stdout",
          "text": [
            "Test set: Average loss: 0.1192, Accuracy: 58218/60000 (97.03%)\n",
            "\n",
            "Adjusting learning rate of group 0 to 1.0000e-03.\n",
            "Epoch 11\n"
          ]
        },
        {
          "output_type": "stream",
          "name": "stderr",
          "text": [
            "Train: Loss=0.0739 Batch_id=937 Accuracy=98.92: 100%|██████████| 938/938 [00:29<00:00, 31.37it/s]\n"
          ]
        },
        {
          "output_type": "stream",
          "name": "stdout",
          "text": [
            "Test set: Average loss: 0.0233, Accuracy: 59577/60000 (99.30%)\n",
            "\n",
            "Adjusting learning rate of group 0 to 1.0000e-03.\n",
            "Epoch 12\n"
          ]
        },
        {
          "output_type": "stream",
          "name": "stderr",
          "text": [
            "Train: Loss=0.0735 Batch_id=937 Accuracy=99.14: 100%|██████████| 938/938 [00:29<00:00, 32.22it/s]\n"
          ]
        },
        {
          "output_type": "stream",
          "name": "stdout",
          "text": [
            "Test set: Average loss: 0.0212, Accuracy: 59605/60000 (99.34%)\n",
            "\n",
            "Adjusting learning rate of group 0 to 1.0000e-03.\n",
            "Epoch 13\n"
          ]
        },
        {
          "output_type": "stream",
          "name": "stderr",
          "text": [
            "Train: Loss=0.2984 Batch_id=937 Accuracy=99.15: 100%|██████████| 938/938 [00:29<00:00, 31.93it/s]\n"
          ]
        },
        {
          "output_type": "stream",
          "name": "stdout",
          "text": [
            "Test set: Average loss: 0.0192, Accuracy: 59656/60000 (99.43%)\n",
            "\n",
            "Adjusting learning rate of group 0 to 1.0000e-03.\n",
            "Epoch 14\n"
          ]
        },
        {
          "output_type": "stream",
          "name": "stderr",
          "text": [
            "Train: Loss=0.2069 Batch_id=937 Accuracy=99.17: 100%|██████████| 938/938 [00:28<00:00, 32.35it/s]\n"
          ]
        },
        {
          "output_type": "stream",
          "name": "stdout",
          "text": [
            "Test set: Average loss: 0.0185, Accuracy: 59670/60000 (99.45%)\n",
            "\n",
            "Adjusting learning rate of group 0 to 1.0000e-03.\n",
            "Epoch 15\n"
          ]
        },
        {
          "output_type": "stream",
          "name": "stderr",
          "text": [
            "Train: Loss=0.2332 Batch_id=937 Accuracy=99.24: 100%|██████████| 938/938 [00:29<00:00, 32.21it/s]\n"
          ]
        },
        {
          "output_type": "stream",
          "name": "stdout",
          "text": [
            "Test set: Average loss: 0.0186, Accuracy: 59660/60000 (99.43%)\n",
            "\n",
            "Adjusting learning rate of group 0 to 1.0000e-03.\n",
            "Epoch 16\n"
          ]
        },
        {
          "output_type": "stream",
          "name": "stderr",
          "text": [
            "Train: Loss=0.2079 Batch_id=937 Accuracy=99.28: 100%|██████████| 938/938 [00:29<00:00, 31.61it/s]\n"
          ]
        },
        {
          "output_type": "stream",
          "name": "stdout",
          "text": [
            "Test set: Average loss: 0.0163, Accuracy: 59713/60000 (99.52%)\n",
            "\n",
            "Adjusting learning rate of group 0 to 1.0000e-03.\n",
            "Epoch 17\n"
          ]
        },
        {
          "output_type": "stream",
          "name": "stderr",
          "text": [
            "Train: Loss=0.1193 Batch_id=937 Accuracy=99.28: 100%|██████████| 938/938 [00:29<00:00, 31.67it/s]\n"
          ]
        },
        {
          "output_type": "stream",
          "name": "stdout",
          "text": [
            "Test set: Average loss: 0.0162, Accuracy: 59698/60000 (99.50%)\n",
            "\n",
            "Adjusting learning rate of group 0 to 1.0000e-03.\n",
            "Epoch 18\n"
          ]
        },
        {
          "output_type": "stream",
          "name": "stderr",
          "text": [
            "Train: Loss=0.0462 Batch_id=937 Accuracy=99.28: 100%|██████████| 938/938 [00:30<00:00, 30.57it/s]\n"
          ]
        },
        {
          "output_type": "stream",
          "name": "stdout",
          "text": [
            "Test set: Average loss: 0.0166, Accuracy: 59713/60000 (99.52%)\n",
            "\n",
            "Adjusting learning rate of group 0 to 1.0000e-03.\n",
            "Epoch 19\n"
          ]
        },
        {
          "output_type": "stream",
          "name": "stderr",
          "text": [
            "Train: Loss=0.1719 Batch_id=937 Accuracy=99.30: 100%|██████████| 938/938 [00:29<00:00, 31.91it/s]\n"
          ]
        },
        {
          "output_type": "stream",
          "name": "stdout",
          "text": [
            "Test set: Average loss: 0.0156, Accuracy: 59715/60000 (99.53%)\n",
            "\n",
            "Adjusting learning rate of group 0 to 1.0000e-03.\n",
            "Epoch 20\n"
          ]
        },
        {
          "output_type": "stream",
          "name": "stderr",
          "text": [
            "Train: Loss=0.0206 Batch_id=937 Accuracy=99.33: 100%|██████████| 938/938 [00:29<00:00, 31.59it/s]\n"
          ]
        },
        {
          "output_type": "stream",
          "name": "stdout",
          "text": [
            "Test set: Average loss: 0.0156, Accuracy: 59715/60000 (99.53%)\n",
            "\n",
            "Adjusting learning rate of group 0 to 1.0000e-04.\n"
          ]
        }
      ]
    },
    {
      "cell_type": "code",
      "source": [],
      "metadata": {
        "id": "cGMaq1I7Bmi9"
      },
      "execution_count": null,
      "outputs": []
    },
    {
      "cell_type": "code",
      "source": [],
      "metadata": {
        "id": "Spg4cmkcCH_c"
      },
      "execution_count": null,
      "outputs": []
    }
  ]
}