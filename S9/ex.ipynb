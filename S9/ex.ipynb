{
 "cells": [
  {
   "cell_type": "code",
   "execution_count": 1,
   "metadata": {},
   "outputs": [],
   "source": [
    "from final_model import *"
   ]
  },
  {
   "cell_type": "code",
   "execution_count": 2,
   "metadata": {},
   "outputs": [],
   "source": [
    "from utils import *"
   ]
  },
  {
   "cell_type": "code",
   "execution_count": 3,
   "metadata": {},
   "outputs": [],
   "source": [
    "model = Net()"
   ]
  },
  {
   "cell_type": "code",
   "execution_count": 4,
   "metadata": {},
   "outputs": [
    {
     "name": "stdout",
     "output_type": "stream",
     "text": [
      "----------------------------------------------------------------\n",
      "        Layer (type)               Output Shape         Param #\n",
      "================================================================\n",
      "            Conv2d-1           [-1, 32, 30, 30]             896\n",
      "       BatchNorm2d-2           [-1, 32, 30, 30]              64\n",
      "              ReLU-3           [-1, 32, 30, 30]               0\n",
      "           Dropout-4           [-1, 32, 30, 30]               0\n",
      "            Conv2d-5           [-1, 64, 28, 28]          18,496\n",
      "       BatchNorm2d-6           [-1, 64, 28, 28]             128\n",
      "              ReLU-7           [-1, 64, 28, 28]               0\n",
      "           Dropout-8           [-1, 64, 28, 28]               0\n",
      "            Conv2d-9           [-1, 56, 15, 15]          32,312\n",
      "           Conv2d-10          [-1, 168, 15, 15]           1,680\n",
      "      BatchNorm2d-11          [-1, 168, 15, 15]             336\n",
      "             ReLU-12          [-1, 168, 15, 15]               0\n",
      "          Dropout-13          [-1, 168, 15, 15]               0\n",
      "           Conv2d-14           [-1, 56, 15, 15]           9,464\n",
      "           Conv2d-15           [-1, 64, 15, 15]          32,320\n",
      "      BatchNorm2d-16           [-1, 64, 15, 15]             128\n",
      "             ReLU-17           [-1, 64, 15, 15]               0\n",
      "          Dropout-18           [-1, 64, 15, 15]               0\n",
      "           Conv2d-19             [-1, 24, 9, 9]          13,848\n",
      "           Conv2d-20             [-1, 36, 9, 9]           7,812\n",
      "      BatchNorm2d-21             [-1, 36, 9, 9]              72\n",
      "             ReLU-22             [-1, 36, 9, 9]               0\n",
      "          Dropout-23             [-1, 36, 9, 9]               0\n",
      "           Conv2d-24             [-1, 36, 9, 9]           7,812\n",
      "      BatchNorm2d-25             [-1, 36, 9, 9]              72\n",
      "             ReLU-26             [-1, 36, 9, 9]               0\n",
      "          Dropout-27             [-1, 36, 9, 9]               0\n",
      "           Conv2d-28             [-1, 56, 9, 9]          18,200\n",
      "      BatchNorm2d-29             [-1, 56, 9, 9]             112\n",
      "             ReLU-30             [-1, 56, 9, 9]               0\n",
      "          Dropout-31             [-1, 56, 9, 9]               0\n",
      "           Conv2d-32             [-1, 32, 6, 6]          16,160\n",
      "           Conv2d-33             [-1, 48, 6, 6]          13,872\n",
      "      BatchNorm2d-34             [-1, 48, 6, 6]              96\n",
      "             ReLU-35             [-1, 48, 6, 6]               0\n",
      "          Dropout-36             [-1, 48, 6, 6]               0\n",
      "           Conv2d-37             [-1, 24, 6, 6]          10,392\n",
      "      BatchNorm2d-38             [-1, 24, 6, 6]              48\n",
      "             ReLU-39             [-1, 24, 6, 6]               0\n",
      "          Dropout-40             [-1, 24, 6, 6]               0\n",
      "           Conv2d-41             [-1, 10, 4, 4]           2,170\n",
      "        AvgPool2d-42             [-1, 10, 1, 1]               0\n",
      "================================================================\n",
      "Total params: 186,490\n",
      "Trainable params: 186,490\n",
      "Non-trainable params: 0\n",
      "----------------------------------------------------------------\n",
      "Input size (MB): 0.01\n",
      "Forward/backward pass size (MB): 4.62\n",
      "Params size (MB): 0.71\n",
      "Estimated Total Size (MB): 5.34\n",
      "----------------------------------------------------------------\n"
     ]
    },
    {
     "name": "stderr",
     "output_type": "stream",
     "text": [
      "c:\\Users\\SriHarsha\\Desktop\\S6\\S9\\final_model.py:105: UserWarning: Implicit dimension choice for log_softmax has been deprecated. Change the call to include dim=X as an argument.\n",
      "  return F.log_softmax(x)\n"
     ]
    },
    {
     "data": {
      "text/plain": [
       "(Net(\n",
       "   (layer1): Sequential(\n",
       "     (0): Conv2d(3, 32, kernel_size=(3, 3), stride=(1, 1))\n",
       "     (1): BatchNorm2d(32, eps=1e-05, momentum=0.1, affine=True, track_running_stats=True)\n",
       "     (2): ReLU()\n",
       "     (3): Dropout(p=0.1, inplace=False)\n",
       "   )\n",
       "   (layer2): Sequential(\n",
       "     (0): Conv2d(32, 64, kernel_size=(3, 3), stride=(1, 1))\n",
       "     (1): BatchNorm2d(64, eps=1e-05, momentum=0.1, affine=True, track_running_stats=True)\n",
       "     (2): ReLU()\n",
       "     (3): Dropout(p=0.1, inplace=False)\n",
       "   )\n",
       "   (layer3): Sequential(\n",
       "     (0): Conv2d(64, 56, kernel_size=(3, 3), stride=(2, 2), padding=(2, 2), padding_mode=reflect)\n",
       "   )\n",
       "   (layer4): Sequential(\n",
       "     (0): Conv2d(56, 168, kernel_size=(3, 3), stride=(1, 1), padding=(1, 1), groups=56, padding_mode=reflect)\n",
       "     (1): BatchNorm2d(168, eps=1e-05, momentum=0.1, affine=True, track_running_stats=True)\n",
       "     (2): ReLU()\n",
       "     (3): Dropout(p=0.1, inplace=False)\n",
       "     (4): Conv2d(168, 56, kernel_size=(1, 1), stride=(1, 1))\n",
       "   )\n",
       "   (layer5): Sequential(\n",
       "     (0): Conv2d(56, 64, kernel_size=(3, 3), stride=(1, 1), padding=(1, 1), padding_mode=reflect)\n",
       "     (1): BatchNorm2d(64, eps=1e-05, momentum=0.1, affine=True, track_running_stats=True)\n",
       "     (2): ReLU()\n",
       "     (3): Dropout(p=0.1, inplace=False)\n",
       "   )\n",
       "   (layer6): Sequential(\n",
       "     (0): Conv2d(64, 24, kernel_size=(3, 3), stride=(2, 2), padding=(2, 2), padding_mode=reflect)\n",
       "   )\n",
       "   (layer7): Sequential(\n",
       "     (0): Conv2d(24, 36, kernel_size=(3, 3), stride=(1, 1), padding=(1, 1), padding_mode=reflect)\n",
       "     (1): BatchNorm2d(36, eps=1e-05, momentum=0.1, affine=True, track_running_stats=True)\n",
       "     (2): ReLU()\n",
       "     (3): Dropout(p=0.1, inplace=False)\n",
       "   )\n",
       "   (layer7_2): Sequential(\n",
       "     (0): Conv2d(24, 36, kernel_size=(3, 3), stride=(1, 1), padding=(2, 2), dilation=(2, 2), padding_mode=reflect)\n",
       "     (1): BatchNorm2d(36, eps=1e-05, momentum=0.1, affine=True, track_running_stats=True)\n",
       "     (2): ReLU()\n",
       "     (3): Dropout(p=0.1, inplace=False)\n",
       "   )\n",
       "   (layer8): Sequential(\n",
       "     (0): Conv2d(36, 56, kernel_size=(3, 3), stride=(1, 1), padding=(1, 1), padding_mode=reflect)\n",
       "     (1): BatchNorm2d(56, eps=1e-05, momentum=0.1, affine=True, track_running_stats=True)\n",
       "     (2): ReLU()\n",
       "     (3): Dropout(p=0.1, inplace=False)\n",
       "   )\n",
       "   (layer9): Sequential(\n",
       "     (0): Conv2d(56, 32, kernel_size=(3, 3), stride=(2, 2), padding=(2, 2), padding_mode=reflect)\n",
       "   )\n",
       "   (layer10): Sequential(\n",
       "     (0): Conv2d(32, 48, kernel_size=(3, 3), stride=(1, 1), padding=(1, 1), padding_mode=reflect)\n",
       "     (1): BatchNorm2d(48, eps=1e-05, momentum=0.1, affine=True, track_running_stats=True)\n",
       "     (2): ReLU()\n",
       "     (3): Dropout(p=0.1, inplace=False)\n",
       "   )\n",
       "   (layer11): Sequential(\n",
       "     (0): Conv2d(48, 24, kernel_size=(3, 3), stride=(1, 1), padding=(1, 1))\n",
       "     (1): BatchNorm2d(24, eps=1e-05, momentum=0.1, affine=True, track_running_stats=True)\n",
       "     (2): ReLU()\n",
       "     (3): Dropout(p=0.1, inplace=False)\n",
       "   )\n",
       "   (layer12): Sequential(\n",
       "     (0): Conv2d(24, 10, kernel_size=(3, 3), stride=(1, 1))\n",
       "   )\n",
       "   (gap): AvgPool2d(kernel_size=4, stride=4, padding=0)\n",
       " ),\n",
       " None)"
      ]
     },
     "execution_count": 4,
     "metadata": {},
     "output_type": "execute_result"
    }
   ],
   "source": [
    "get_summary(model)"
   ]
  },
  {
   "cell_type": "code",
   "execution_count": null,
   "metadata": {},
   "outputs": [],
   "source": []
  },
  {
   "cell_type": "code",
   "execution_count": null,
   "metadata": {},
   "outputs": [],
   "source": []
  },
  {
   "cell_type": "code",
   "execution_count": null,
   "metadata": {},
   "outputs": [],
   "source": []
  },
  {
   "cell_type": "code",
   "execution_count": null,
   "metadata": {},
   "outputs": [],
   "source": []
  },
  {
   "cell_type": "code",
   "execution_count": null,
   "metadata": {},
   "outputs": [],
   "source": []
  }
 ],
 "metadata": {
  "kernelspec": {
   "display_name": "Python 3",
   "language": "python",
   "name": "python3"
  },
  "language_info": {
   "codemirror_mode": {
    "name": "ipython",
    "version": 3
   },
   "file_extension": ".py",
   "mimetype": "text/x-python",
   "name": "python",
   "nbconvert_exporter": "python",
   "pygments_lexer": "ipython3",
   "version": "3.10.0"
  },
  "orig_nbformat": 4
 },
 "nbformat": 4,
 "nbformat_minor": 2
}
