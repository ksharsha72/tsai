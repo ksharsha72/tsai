{
 "cells": [
  {
   "cell_type": "code",
   "execution_count": 1,
   "metadata": {},
   "outputs": [],
   "source": [
    "from final_model import *"
   ]
  },
  {
   "cell_type": "code",
   "execution_count": 2,
   "metadata": {},
   "outputs": [],
   "source": [
    "from utils import *"
   ]
  },
  {
   "cell_type": "code",
   "execution_count": 3,
   "metadata": {},
   "outputs": [],
   "source": [
    "model = Net()"
   ]
  },
  {
   "cell_type": "code",
   "execution_count": 4,
   "metadata": {},
   "outputs": [
    {
     "name": "stdout",
     "output_type": "stream",
     "text": [
      "----------------------------------------------------------------\n",
      "        Layer (type)               Output Shape         Param #\n",
      "================================================================\n",
      "            Conv2d-1           [-1, 32, 32, 32]             896\n",
      "       BatchNorm2d-2           [-1, 32, 32, 32]              64\n",
      "              ReLU-3           [-1, 32, 32, 32]               0\n",
      "           Dropout-4           [-1, 32, 32, 32]               0\n",
      "            Conv2d-5           [-1, 64, 32, 32]          18,496\n",
      "       BatchNorm2d-6           [-1, 64, 32, 32]             128\n",
      "              ReLU-7           [-1, 64, 32, 32]               0\n",
      "           Dropout-8           [-1, 64, 32, 32]               0\n",
      "            Conv2d-9           [-1, 64, 32, 32]             640\n",
      "             ReLU-10           [-1, 64, 32, 32]               0\n",
      "      BatchNorm2d-11           [-1, 64, 32, 32]             128\n",
      "          Dropout-12           [-1, 64, 32, 32]               0\n",
      "           Conv2d-13           [-1, 72, 15, 15]          41,544\n",
      "      BatchNorm2d-14           [-1, 72, 15, 15]             144\n",
      "             ReLU-15           [-1, 72, 15, 15]               0\n",
      "          Dropout-16           [-1, 72, 15, 15]               0\n",
      "           Conv2d-17          [-1, 216, 15, 15]           2,160\n",
      "      BatchNorm2d-18          [-1, 216, 15, 15]             432\n",
      "             ReLU-19          [-1, 216, 15, 15]               0\n",
      "          Dropout-20          [-1, 216, 15, 15]               0\n",
      "           Conv2d-21           [-1, 56, 15, 15]          12,152\n",
      "           Conv2d-22           [-1, 72, 15, 15]          36,360\n",
      "      BatchNorm2d-23           [-1, 72, 15, 15]             144\n",
      "             ReLU-24           [-1, 72, 15, 15]               0\n",
      "          Dropout-25           [-1, 72, 15, 15]               0\n",
      "           Conv2d-26           [-1, 24, 11, 11]          15,576\n",
      "      BatchNorm2d-27           [-1, 24, 11, 11]              48\n",
      "             ReLU-28           [-1, 24, 11, 11]               0\n",
      "          Dropout-29           [-1, 24, 11, 11]               0\n",
      "           Conv2d-30           [-1, 36, 11, 11]           7,812\n",
      "      BatchNorm2d-31           [-1, 36, 11, 11]              72\n",
      "             ReLU-32           [-1, 36, 11, 11]               0\n",
      "          Dropout-33           [-1, 36, 11, 11]               0\n",
      "           Conv2d-34           [-1, 56, 11, 11]          18,200\n",
      "      BatchNorm2d-35           [-1, 56, 11, 11]             112\n",
      "             ReLU-36           [-1, 56, 11, 11]               0\n",
      "          Dropout-37           [-1, 56, 11, 11]               0\n",
      "           Conv2d-38             [-1, 32, 9, 9]          16,160\n",
      "      BatchNorm2d-39             [-1, 32, 9, 9]              64\n",
      "             ReLU-40             [-1, 32, 9, 9]               0\n",
      "          Dropout-41             [-1, 32, 9, 9]               0\n",
      "           Conv2d-42             [-1, 48, 9, 9]          13,872\n",
      "      BatchNorm2d-43             [-1, 48, 9, 9]              96\n",
      "             ReLU-44             [-1, 48, 9, 9]               0\n",
      "          Dropout-45             [-1, 48, 9, 9]               0\n",
      "           Conv2d-46             [-1, 24, 9, 9]          10,392\n",
      "      BatchNorm2d-47             [-1, 24, 9, 9]              48\n",
      "             ReLU-48             [-1, 24, 9, 9]               0\n",
      "          Dropout-49             [-1, 24, 9, 9]               0\n",
      "           Conv2d-50             [-1, 10, 4, 4]           2,170\n",
      "        AvgPool2d-51             [-1, 10, 1, 1]               0\n",
      "================================================================\n",
      "Total params: 197,910\n",
      "Trainable params: 197,910\n",
      "Non-trainable params: 0\n",
      "----------------------------------------------------------------\n",
      "Input size (MB): 0.01\n",
      "Forward/backward pass size (MB): 8.25\n",
      "Params size (MB): 0.75\n",
      "Estimated Total Size (MB): 9.02\n",
      "----------------------------------------------------------------\n"
     ]
    },
    {
     "name": "stderr",
     "output_type": "stream",
     "text": [
      "c:\\Users\\SriHarsha\\Desktop\\S6\\S9\\final_model.py:113: UserWarning: Implicit dimension choice for log_softmax has been deprecated. Change the call to include dim=X as an argument.\n",
      "  return F.log_softmax(x)\n"
     ]
    },
    {
     "data": {
      "text/plain": [
       "(Net(\n",
       "   (layer1): Sequential(\n",
       "     (0): Conv2d(3, 32, kernel_size=(3, 3), stride=(1, 1), padding=(1, 1), padding_mode=reflect)\n",
       "     (1): BatchNorm2d(32, eps=1e-05, momentum=0.1, affine=True, track_running_stats=True)\n",
       "     (2): ReLU()\n",
       "     (3): Dropout(p=0.1, inplace=False)\n",
       "   )\n",
       "   (layer2): Sequential(\n",
       "     (0): Conv2d(32, 64, kernel_size=(3, 3), stride=(1, 1), padding=(2, 2), dilation=(2, 2), padding_mode=reflect)\n",
       "     (1): BatchNorm2d(64, eps=1e-05, momentum=0.1, affine=True, track_running_stats=True)\n",
       "     (2): ReLU()\n",
       "     (3): Dropout(p=0.1, inplace=False)\n",
       "   )\n",
       "   (layer2_1): Sequential(\n",
       "     (0): Conv2d(32, 64, kernel_size=(3, 3), stride=(1, 1), padding=(1, 1), groups=32, padding_mode=reflect)\n",
       "     (1): ReLU()\n",
       "     (2): BatchNorm2d(64, eps=1e-05, momentum=0.1, affine=True, track_running_stats=True)\n",
       "     (3): Dropout(p=0.1, inplace=False)\n",
       "   )\n",
       "   (layer3): Sequential(\n",
       "     (0): Conv2d(64, 72, kernel_size=(3, 3), stride=(2, 2))\n",
       "     (1): BatchNorm2d(72, eps=1e-05, momentum=0.1, affine=True, track_running_stats=True)\n",
       "     (2): ReLU()\n",
       "     (3): Dropout(p=0.1, inplace=False)\n",
       "   )\n",
       "   (layer4): Sequential(\n",
       "     (0): Conv2d(72, 216, kernel_size=(3, 3), stride=(1, 1), padding=(1, 1), groups=72, padding_mode=reflect)\n",
       "     (1): BatchNorm2d(216, eps=1e-05, momentum=0.1, affine=True, track_running_stats=True)\n",
       "     (2): ReLU()\n",
       "     (3): Dropout(p=0.1, inplace=False)\n",
       "     (4): Conv2d(216, 56, kernel_size=(1, 1), stride=(1, 1))\n",
       "   )\n",
       "   (layer5): Sequential(\n",
       "     (0): Conv2d(56, 72, kernel_size=(3, 3), stride=(1, 1), padding=(1, 1), padding_mode=reflect)\n",
       "     (1): BatchNorm2d(72, eps=1e-05, momentum=0.1, affine=True, track_running_stats=True)\n",
       "     (2): ReLU()\n",
       "     (3): Dropout(p=0.1, inplace=False)\n",
       "   )\n",
       "   (layer6): Sequential(\n",
       "     (0): Conv2d(72, 24, kernel_size=(3, 3), stride=(2, 2), padding=(4, 4), padding_mode=reflect)\n",
       "     (1): BatchNorm2d(24, eps=1e-05, momentum=0.1, affine=True, track_running_stats=True)\n",
       "     (2): ReLU()\n",
       "     (3): Dropout(p=0.1, inplace=False)\n",
       "   )\n",
       "   (layer7): Sequential(\n",
       "     (0): Conv2d(24, 36, kernel_size=(3, 3), stride=(1, 1), padding=(1, 1), padding_mode=reflect)\n",
       "     (1): BatchNorm2d(36, eps=1e-05, momentum=0.1, affine=True, track_running_stats=True)\n",
       "     (2): ReLU()\n",
       "     (3): Dropout(p=0.1, inplace=False)\n",
       "   )\n",
       "   (layer8): Sequential(\n",
       "     (0): Conv2d(36, 56, kernel_size=(3, 3), stride=(1, 1), padding=(1, 1), padding_mode=reflect)\n",
       "     (1): BatchNorm2d(56, eps=1e-05, momentum=0.1, affine=True, track_running_stats=True)\n",
       "     (2): ReLU()\n",
       "     (3): Dropout(p=0.1, inplace=False)\n",
       "   )\n",
       "   (layer9): Sequential(\n",
       "     (0): Conv2d(56, 32, kernel_size=(3, 3), stride=(2, 2), padding=(4, 4), padding_mode=reflect)\n",
       "     (1): BatchNorm2d(32, eps=1e-05, momentum=0.1, affine=True, track_running_stats=True)\n",
       "     (2): ReLU()\n",
       "     (3): Dropout(p=0.1, inplace=False)\n",
       "   )\n",
       "   (layer10): Sequential(\n",
       "     (0): Conv2d(32, 48, kernel_size=(3, 3), stride=(1, 1), padding=(1, 1), padding_mode=reflect)\n",
       "     (1): BatchNorm2d(48, eps=1e-05, momentum=0.1, affine=True, track_running_stats=True)\n",
       "     (2): ReLU()\n",
       "     (3): Dropout(p=0.1, inplace=False)\n",
       "   )\n",
       "   (layer11): Sequential(\n",
       "     (0): Conv2d(48, 24, kernel_size=(3, 3), stride=(1, 1), padding=(1, 1), padding_mode=reflect)\n",
       "     (1): BatchNorm2d(24, eps=1e-05, momentum=0.1, affine=True, track_running_stats=True)\n",
       "     (2): ReLU()\n",
       "     (3): Dropout(p=0.1, inplace=False)\n",
       "   )\n",
       "   (layer12): Sequential(\n",
       "     (0): Conv2d(24, 10, kernel_size=(3, 3), stride=(2, 2))\n",
       "   )\n",
       "   (gap): AvgPool2d(kernel_size=4, stride=4, padding=0)\n",
       " ),\n",
       " None)"
      ]
     },
     "execution_count": 4,
     "metadata": {},
     "output_type": "execute_result"
    }
   ],
   "source": [
    "get_summary(model)"
   ]
  },
  {
   "cell_type": "code",
   "execution_count": null,
   "metadata": {},
   "outputs": [],
   "source": []
  },
  {
   "cell_type": "code",
   "execution_count": null,
   "metadata": {},
   "outputs": [],
   "source": []
  },
  {
   "cell_type": "code",
   "execution_count": null,
   "metadata": {},
   "outputs": [],
   "source": []
  },
  {
   "cell_type": "code",
   "execution_count": null,
   "metadata": {},
   "outputs": [],
   "source": []
  },
  {
   "cell_type": "code",
   "execution_count": null,
   "metadata": {},
   "outputs": [],
   "source": []
  }
 ],
 "metadata": {
  "kernelspec": {
   "display_name": "Python 3",
   "language": "python",
   "name": "python3"
  },
  "language_info": {
   "codemirror_mode": {
    "name": "ipython",
    "version": 3
   },
   "file_extension": ".py",
   "mimetype": "text/x-python",
   "name": "python",
   "nbconvert_exporter": "python",
   "pygments_lexer": "ipython3",
   "version": "3.10.0"
  },
  "orig_nbformat": 4
 },
 "nbformat": 4,
 "nbformat_minor": 2
}
