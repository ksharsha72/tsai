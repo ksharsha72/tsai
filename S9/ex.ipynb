{
 "cells": [
  {
   "cell_type": "code",
   "execution_count": 1,
   "metadata": {},
   "outputs": [],
   "source": [
    "from model_2 import *"
   ]
  },
  {
   "cell_type": "code",
   "execution_count": 2,
   "metadata": {},
   "outputs": [],
   "source": [
    "from utils import *"
   ]
  },
  {
   "cell_type": "code",
   "execution_count": 3,
   "metadata": {},
   "outputs": [],
   "source": [
    "model = Model()"
   ]
  },
  {
   "cell_type": "code",
   "execution_count": 4,
   "metadata": {},
   "outputs": [
    {
     "name": "stdout",
     "output_type": "stream",
     "text": [
      "----------------------------------------------------------------\n",
      "        Layer (type)               Output Shape         Param #\n",
      "================================================================\n",
      "            Conv2d-1           [-1, 16, 30, 30]             448\n",
      "              ReLU-2           [-1, 16, 30, 30]               0\n",
      "       BatchNorm2d-3           [-1, 16, 30, 30]              32\n",
      "           Dropout-4           [-1, 16, 30, 30]               0\n",
      "            Conv2d-5           [-1, 32, 28, 28]           4,640\n",
      "              ReLU-6           [-1, 32, 28, 28]               0\n",
      "       BatchNorm2d-7           [-1, 32, 28, 28]              64\n",
      "           Dropout-8           [-1, 32, 28, 28]               0\n",
      "            Conv2d-9           [-1, 64, 15, 15]          18,496\n",
      "             ReLU-10           [-1, 64, 15, 15]               0\n",
      "      BatchNorm2d-11           [-1, 64, 15, 15]             128\n",
      "          Dropout-12           [-1, 64, 15, 15]               0\n",
      "           Conv2d-13           [-1, 72, 15, 15]          41,544\n",
      "             ReLU-14           [-1, 72, 15, 15]               0\n",
      "      BatchNorm2d-15           [-1, 72, 15, 15]             144\n",
      "          Dropout-16           [-1, 72, 15, 15]               0\n",
      "           Conv2d-17           [-1, 64, 15, 15]          41,536\n",
      "             ReLU-18           [-1, 64, 15, 15]               0\n",
      "      BatchNorm2d-19           [-1, 64, 15, 15]             128\n",
      "          Dropout-20           [-1, 64, 15, 15]               0\n",
      "           Conv2d-21           [-1, 32, 11, 11]          18,464\n",
      "             ReLU-22           [-1, 32, 11, 11]               0\n",
      "      BatchNorm2d-23           [-1, 32, 11, 11]              64\n",
      "          Dropout-24           [-1, 32, 11, 11]               0\n",
      "           Conv2d-25           [-1, 64, 11, 11]             640\n",
      "             ReLU-26           [-1, 64, 11, 11]               0\n",
      "      BatchNorm2d-27           [-1, 64, 11, 11]             128\n",
      "          Dropout-28           [-1, 64, 11, 11]               0\n",
      "           Conv2d-29           [-1, 32, 11, 11]           2,080\n",
      "           Conv2d-30           [-1, 64, 11, 11]          18,496\n",
      "             ReLU-31           [-1, 64, 11, 11]               0\n",
      "      BatchNorm2d-32           [-1, 64, 11, 11]             128\n",
      "          Dropout-33           [-1, 64, 11, 11]               0\n",
      "           Conv2d-34             [-1, 32, 9, 9]          18,464\n",
      "             ReLU-35             [-1, 32, 9, 9]               0\n",
      "      BatchNorm2d-36             [-1, 32, 9, 9]              64\n",
      "          Dropout-37             [-1, 32, 9, 9]               0\n",
      "           Conv2d-38             [-1, 36, 9, 9]          10,404\n",
      "             ReLU-39             [-1, 36, 9, 9]               0\n",
      "      BatchNorm2d-40             [-1, 36, 9, 9]              72\n",
      "          Dropout-41             [-1, 36, 9, 9]               0\n",
      "           Conv2d-42             [-1, 56, 9, 9]          18,200\n",
      "             ReLU-43             [-1, 56, 9, 9]               0\n",
      "      BatchNorm2d-44             [-1, 56, 9, 9]             112\n",
      "          Dropout-45             [-1, 56, 9, 9]               0\n",
      "           Conv2d-46             [-1, 10, 4, 4]           5,050\n",
      "        AvgPool2d-47             [-1, 10, 1, 1]               0\n",
      "================================================================\n",
      "Total params: 199,526\n",
      "Trainable params: 199,526\n",
      "Non-trainable params: 0\n",
      "----------------------------------------------------------------\n",
      "Input size (MB): 0.01\n",
      "Forward/backward pass size (MB): 3.51\n",
      "Params size (MB): 0.76\n",
      "Estimated Total Size (MB): 4.28\n",
      "----------------------------------------------------------------\n"
     ]
    },
    {
     "name": "stderr",
     "output_type": "stream",
     "text": [
      "c:\\Users\\SriHarsha\\Desktop\\S6\\S9\\model_2.py:98: UserWarning: Implicit dimension choice for log_softmax has been deprecated. Change the call to include dim=X as an argument.\n",
      "  return F.log_softmax(x)\n"
     ]
    },
    {
     "data": {
      "text/plain": [
       "(Model(\n",
       "   (layer1): Sequential(\n",
       "     (0): Conv2d(3, 16, kernel_size=(3, 3), stride=(1, 1))\n",
       "     (1): ReLU()\n",
       "     (2): BatchNorm2d(16, eps=1e-05, momentum=0.1, affine=True, track_running_stats=True)\n",
       "     (3): Dropout(p=0.1, inplace=False)\n",
       "   )\n",
       "   (layer2): Sequential(\n",
       "     (0): Conv2d(16, 32, kernel_size=(3, 3), stride=(1, 1))\n",
       "     (1): ReLU()\n",
       "     (2): BatchNorm2d(32, eps=1e-05, momentum=0.1, affine=True, track_running_stats=True)\n",
       "     (3): Dropout(p=0.1, inplace=False)\n",
       "   )\n",
       "   (layer3): Sequential(\n",
       "     (0): Conv2d(32, 64, kernel_size=(3, 3), stride=(2, 2), padding=(2, 2))\n",
       "     (1): ReLU()\n",
       "     (2): BatchNorm2d(64, eps=1e-05, momentum=0.1, affine=True, track_running_stats=True)\n",
       "     (3): Dropout(p=0.1, inplace=False)\n",
       "   )\n",
       "   (layer4): Sequential(\n",
       "     (0): Conv2d(64, 72, kernel_size=(3, 3), stride=(1, 1), padding=(1, 1))\n",
       "     (1): ReLU()\n",
       "     (2): BatchNorm2d(72, eps=1e-05, momentum=0.1, affine=True, track_running_stats=True)\n",
       "     (3): Dropout(p=0.1, inplace=False)\n",
       "   )\n",
       "   (layer5): Sequential(\n",
       "     (0): Conv2d(72, 64, kernel_size=(3, 3), stride=(1, 1), padding=(1, 1))\n",
       "     (1): ReLU()\n",
       "     (2): BatchNorm2d(64, eps=1e-05, momentum=0.1, affine=True, track_running_stats=True)\n",
       "     (3): Dropout(p=0.1, inplace=False)\n",
       "   )\n",
       "   (layer6): Sequential(\n",
       "     (0): Conv2d(64, 32, kernel_size=(3, 3), stride=(2, 2), padding=(4, 4))\n",
       "     (1): ReLU()\n",
       "     (2): BatchNorm2d(32, eps=1e-05, momentum=0.1, affine=True, track_running_stats=True)\n",
       "     (3): Dropout(p=0.1, inplace=False)\n",
       "   )\n",
       "   (dw_sep1): Sequential(\n",
       "     (0): Conv2d(32, 64, kernel_size=(3, 3), stride=(1, 1), padding=(1, 1), groups=32)\n",
       "     (1): ReLU()\n",
       "     (2): BatchNorm2d(64, eps=1e-05, momentum=0.1, affine=True, track_running_stats=True)\n",
       "     (3): Dropout(p=0.1, inplace=False)\n",
       "     (4): Conv2d(64, 32, kernel_size=(1, 1), stride=(1, 1))\n",
       "   )\n",
       "   (layer8): Sequential(\n",
       "     (0): Conv2d(32, 64, kernel_size=(3, 3), stride=(1, 1), padding=(1, 1))\n",
       "     (1): ReLU()\n",
       "     (2): BatchNorm2d(64, eps=1e-05, momentum=0.1, affine=True, track_running_stats=True)\n",
       "     (3): Dropout(p=0.1, inplace=False)\n",
       "   )\n",
       "   (layer9): Sequential(\n",
       "     (0): Conv2d(64, 32, kernel_size=(3, 3), stride=(2, 2), padding=(4, 4))\n",
       "     (1): ReLU()\n",
       "     (2): BatchNorm2d(32, eps=1e-05, momentum=0.1, affine=True, track_running_stats=True)\n",
       "     (3): Dropout(p=0.1, inplace=False)\n",
       "   )\n",
       "   (layer10): Sequential(\n",
       "     (0): Conv2d(32, 36, kernel_size=(3, 3), stride=(1, 1), padding=(1, 1))\n",
       "     (1): ReLU()\n",
       "     (2): BatchNorm2d(36, eps=1e-05, momentum=0.1, affine=True, track_running_stats=True)\n",
       "     (3): Dropout(p=0.1, inplace=False)\n",
       "   )\n",
       "   (layer11): Sequential(\n",
       "     (0): Conv2d(36, 56, kernel_size=(3, 3), stride=(1, 1), padding=(1, 1))\n",
       "     (1): ReLU()\n",
       "     (2): BatchNorm2d(56, eps=1e-05, momentum=0.1, affine=True, track_running_stats=True)\n",
       "     (3): Dropout(p=0.1, inplace=False)\n",
       "   )\n",
       "   (layer12): Sequential(\n",
       "     (0): Conv2d(56, 10, kernel_size=(3, 3), stride=(2, 2))\n",
       "   )\n",
       "   (out): AvgPool2d(kernel_size=4, stride=4, padding=0)\n",
       " ),\n",
       " None)"
      ]
     },
     "execution_count": 4,
     "metadata": {},
     "output_type": "execute_result"
    }
   ],
   "source": [
    "get_summary(model)"
   ]
  },
  {
   "cell_type": "code",
   "execution_count": null,
   "metadata": {},
   "outputs": [],
   "source": []
  }
 ],
 "metadata": {
  "kernelspec": {
   "display_name": "Python 3",
   "language": "python",
   "name": "python3"
  },
  "language_info": {
   "codemirror_mode": {
    "name": "ipython",
    "version": 3
   },
   "file_extension": ".py",
   "mimetype": "text/x-python",
   "name": "python",
   "nbconvert_exporter": "python",
   "pygments_lexer": "ipython3",
   "version": "3.10.0"
  },
  "orig_nbformat": 4
 },
 "nbformat": 4,
 "nbformat_minor": 2
}
