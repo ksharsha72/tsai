{
 "cells": [
  {
   "cell_type": "code",
   "execution_count": 1,
   "metadata": {},
   "outputs": [],
   "source": [
    "from model_2 import *"
   ]
  },
  {
   "cell_type": "code",
   "execution_count": 2,
   "metadata": {},
   "outputs": [],
   "source": [
    "from utils import *"
   ]
  },
  {
   "cell_type": "code",
   "execution_count": 3,
   "metadata": {},
   "outputs": [],
   "source": [
    "model = Model()"
   ]
  },
  {
   "cell_type": "code",
   "execution_count": 4,
   "metadata": {},
   "outputs": [
    {
     "name": "stdout",
     "output_type": "stream",
     "text": [
      "----------------------------------------------------------------\n",
      "        Layer (type)               Output Shape         Param #\n",
      "================================================================\n",
      "            Conv2d-1           [-1, 16, 30, 30]             448\n",
      "              ReLU-2           [-1, 16, 30, 30]               0\n",
      "       BatchNorm2d-3           [-1, 16, 30, 30]              32\n",
      "           Dropout-4           [-1, 16, 30, 30]               0\n",
      "            Conv2d-5           [-1, 24, 28, 28]           3,480\n",
      "              ReLU-6           [-1, 24, 28, 28]               0\n",
      "       BatchNorm2d-7           [-1, 24, 28, 28]              48\n",
      "           Dropout-8           [-1, 24, 28, 28]               0\n",
      "            Conv2d-9           [-1, 32, 13, 13]           6,944\n",
      "             ReLU-10           [-1, 32, 13, 13]               0\n",
      "      BatchNorm2d-11           [-1, 32, 13, 13]              64\n",
      "          Dropout-12           [-1, 32, 13, 13]               0\n",
      "           Conv2d-13           [-1, 64, 13, 13]          18,496\n",
      "             ReLU-14           [-1, 64, 13, 13]               0\n",
      "      BatchNorm2d-15           [-1, 64, 13, 13]             128\n",
      "          Dropout-16           [-1, 64, 13, 13]               0\n",
      "           Conv2d-17           [-1, 64, 13, 13]          18,496\n",
      "             ReLU-18           [-1, 64, 13, 13]               0\n",
      "      BatchNorm2d-19           [-1, 64, 13, 13]             128\n",
      "          Dropout-20           [-1, 64, 13, 13]               0\n",
      "           Conv2d-21           [-1, 72, 13, 13]          41,544\n",
      "             ReLU-22           [-1, 72, 13, 13]               0\n",
      "      BatchNorm2d-23           [-1, 72, 13, 13]             144\n",
      "          Dropout-24           [-1, 72, 13, 13]               0\n",
      "           Conv2d-25             [-1, 56, 7, 7]          36,344\n",
      "             ReLU-26             [-1, 56, 7, 7]               0\n",
      "      BatchNorm2d-27             [-1, 56, 7, 7]             112\n",
      "          Dropout-28             [-1, 56, 7, 7]               0\n",
      "           Conv2d-29             [-1, 56, 9, 9]             560\n",
      "             ReLU-30             [-1, 56, 9, 9]               0\n",
      "      BatchNorm2d-31             [-1, 56, 9, 9]             112\n",
      "          Dropout-32             [-1, 56, 9, 9]               0\n",
      "           Conv2d-33             [-1, 48, 9, 9]           2,736\n",
      "           Conv2d-34             [-1, 64, 9, 9]          27,712\n",
      "             ReLU-35             [-1, 64, 9, 9]               0\n",
      "      BatchNorm2d-36             [-1, 64, 9, 9]             128\n",
      "          Dropout-37             [-1, 64, 9, 9]               0\n",
      "           Conv2d-38             [-1, 32, 6, 6]          18,464\n",
      "             ReLU-39             [-1, 32, 6, 6]               0\n",
      "      BatchNorm2d-40             [-1, 32, 6, 6]              64\n",
      "          Dropout-41             [-1, 32, 6, 6]               0\n",
      "           Conv2d-42             [-1, 24, 8, 8]           6,936\n",
      "             ReLU-43             [-1, 24, 8, 8]               0\n",
      "      BatchNorm2d-44             [-1, 24, 8, 8]              48\n",
      "          Dropout-45             [-1, 24, 8, 8]               0\n",
      "           Conv2d-46             [-1, 32, 8, 8]           6,944\n",
      "             ReLU-47             [-1, 32, 8, 8]               0\n",
      "      BatchNorm2d-48             [-1, 32, 8, 8]              64\n",
      "          Dropout-49             [-1, 32, 8, 8]               0\n",
      "           Conv2d-50             [-1, 10, 3, 3]           2,890\n",
      "        AvgPool2d-51             [-1, 10, 1, 1]               0\n",
      "================================================================\n",
      "Total params: 193,066\n",
      "Trainable params: 193,066\n",
      "Non-trainable params: 0\n",
      "----------------------------------------------------------------\n",
      "Input size (MB): 0.01\n",
      "Forward/backward pass size (MB): 2.77\n",
      "Params size (MB): 0.74\n",
      "Estimated Total Size (MB): 3.51\n",
      "----------------------------------------------------------------\n"
     ]
    },
    {
     "name": "stderr",
     "output_type": "stream",
     "text": [
      "c:\\Users\\SriHarsha\\Desktop\\S6\\S9\\model_2.py:103: UserWarning: Implicit dimension choice for log_softmax has been deprecated. Change the call to include dim=X as an argument.\n",
      "  return F.log_softmax(x)\n"
     ]
    },
    {
     "data": {
      "text/plain": [
       "(Model(\n",
       "   (layer1): Sequential(\n",
       "     (0): Conv2d(3, 16, kernel_size=(3, 3), stride=(1, 1))\n",
       "     (1): ReLU()\n",
       "     (2): BatchNorm2d(16, eps=1e-05, momentum=0.1, affine=True, track_running_stats=True)\n",
       "     (3): Dropout(p=0.1, inplace=False)\n",
       "   )\n",
       "   (layer2): Sequential(\n",
       "     (0): Conv2d(16, 24, kernel_size=(3, 3), stride=(1, 1))\n",
       "     (1): ReLU()\n",
       "     (2): BatchNorm2d(24, eps=1e-05, momentum=0.1, affine=True, track_running_stats=True)\n",
       "     (3): Dropout(p=0.1, inplace=False)\n",
       "   )\n",
       "   (layer3): Sequential(\n",
       "     (0): Conv2d(24, 32, kernel_size=(3, 3), stride=(2, 2))\n",
       "     (1): ReLU()\n",
       "     (2): BatchNorm2d(32, eps=1e-05, momentum=0.1, affine=True, track_running_stats=True)\n",
       "     (3): Dropout(p=0.1, inplace=False)\n",
       "   )\n",
       "   (layer4): Sequential(\n",
       "     (0): Conv2d(32, 64, kernel_size=(3, 3), stride=(1, 1), padding=(1, 1))\n",
       "     (1): ReLU()\n",
       "     (2): BatchNorm2d(64, eps=1e-05, momentum=0.1, affine=True, track_running_stats=True)\n",
       "     (3): Dropout(p=0.1, inplace=False)\n",
       "   )\n",
       "   (layer4_dil): Sequential(\n",
       "     (0): Conv2d(32, 64, kernel_size=(3, 3), stride=(1, 1), padding=(2, 2), dilation=(2, 2))\n",
       "     (1): ReLU()\n",
       "     (2): BatchNorm2d(64, eps=1e-05, momentum=0.1, affine=True, track_running_stats=True)\n",
       "     (3): Dropout(p=0.1, inplace=False)\n",
       "   )\n",
       "   (layer5): Sequential(\n",
       "     (0): Conv2d(64, 72, kernel_size=(3, 3), stride=(1, 1), padding=(1, 1))\n",
       "     (1): ReLU()\n",
       "     (2): BatchNorm2d(72, eps=1e-05, momentum=0.1, affine=True, track_running_stats=True)\n",
       "     (3): Dropout(p=0.1, inplace=False)\n",
       "   )\n",
       "   (layer6): Sequential(\n",
       "     (0): Conv2d(72, 56, kernel_size=(3, 3), stride=(2, 2), padding=(1, 1))\n",
       "     (1): ReLU()\n",
       "     (2): BatchNorm2d(56, eps=1e-05, momentum=0.1, affine=True, track_running_stats=True)\n",
       "     (3): Dropout(p=0.1, inplace=False)\n",
       "   )\n",
       "   (dw_sep1): Sequential(\n",
       "     (0): Conv2d(56, 56, kernel_size=(3, 3), stride=(1, 1), padding=(2, 2), groups=56)\n",
       "     (1): ReLU()\n",
       "     (2): BatchNorm2d(56, eps=1e-05, momentum=0.1, affine=True, track_running_stats=True)\n",
       "     (3): Dropout(p=0.1, inplace=False)\n",
       "     (4): Conv2d(56, 48, kernel_size=(1, 1), stride=(1, 1))\n",
       "   )\n",
       "   (layer8): Sequential(\n",
       "     (0): Conv2d(48, 64, kernel_size=(3, 3), stride=(1, 1), padding=(1, 1))\n",
       "     (1): ReLU()\n",
       "     (2): BatchNorm2d(64, eps=1e-05, momentum=0.1, affine=True, track_running_stats=True)\n",
       "     (3): Dropout(p=0.1, inplace=False)\n",
       "   )\n",
       "   (layer9): Sequential(\n",
       "     (0): Conv2d(64, 32, kernel_size=(3, 3), stride=(2, 2), padding=(2, 2))\n",
       "     (1): ReLU()\n",
       "     (2): BatchNorm2d(32, eps=1e-05, momentum=0.1, affine=True, track_running_stats=True)\n",
       "     (3): Dropout(p=0.1, inplace=False)\n",
       "   )\n",
       "   (layer10): Sequential(\n",
       "     (0): Conv2d(32, 24, kernel_size=(3, 3), stride=(1, 1), padding=(2, 2))\n",
       "     (1): ReLU()\n",
       "     (2): BatchNorm2d(24, eps=1e-05, momentum=0.1, affine=True, track_running_stats=True)\n",
       "     (3): Dropout(p=0.1, inplace=False)\n",
       "   )\n",
       "   (layer11): Sequential(\n",
       "     (0): Conv2d(24, 32, kernel_size=(3, 3), stride=(1, 1), padding=(1, 1))\n",
       "     (1): ReLU()\n",
       "     (2): BatchNorm2d(32, eps=1e-05, momentum=0.1, affine=True, track_running_stats=True)\n",
       "     (3): Dropout(p=0.1, inplace=False)\n",
       "   )\n",
       "   (layer12): Sequential(\n",
       "     (0): Conv2d(32, 10, kernel_size=(3, 3), stride=(2, 2))\n",
       "   )\n",
       "   (out): AvgPool2d(kernel_size=2, stride=2, padding=0)\n",
       " ),\n",
       " None)"
      ]
     },
     "execution_count": 4,
     "metadata": {},
     "output_type": "execute_result"
    }
   ],
   "source": [
    "get_summary(model)"
   ]
  },
  {
   "cell_type": "code",
   "execution_count": 5,
   "metadata": {},
   "outputs": [],
   "source": [
    "import numpy as np"
   ]
  },
  {
   "cell_type": "code",
   "execution_count": 6,
   "metadata": {},
   "outputs": [
    {
     "ename": "TypeError",
     "evalue": "zeros() missing required argument 'shape' (pos 0)",
     "output_type": "error",
     "traceback": [
      "\u001b[1;31m---------------------------------------------------------------------------\u001b[0m",
      "\u001b[1;31mTypeError\u001b[0m                                 Traceback (most recent call last)",
      "Cell \u001b[1;32mIn[6], line 1\u001b[0m\n\u001b[1;32m----> 1\u001b[0m np\u001b[39m.\u001b[39;49mzeros()\n",
      "\u001b[1;31mTypeError\u001b[0m: zeros() missing required argument 'shape' (pos 0)"
     ]
    }
   ],
   "source": [
    "np.zeros()"
   ]
  },
  {
   "cell_type": "code",
   "execution_count": null,
   "metadata": {},
   "outputs": [
    {
     "data": {
      "text/plain": [
       "array([[0],\n",
       "       [1],\n",
       "       [2],\n",
       "       [3],\n",
       "       [4],\n",
       "       [5],\n",
       "       [6],\n",
       "       [7],\n",
       "       [8],\n",
       "       [9]])"
      ]
     },
     "execution_count": 28,
     "metadata": {},
     "output_type": "execute_result"
    }
   ],
   "source": [
    "np.arange(0,10).reshape(10,1)"
   ]
  },
  {
   "cell_type": "code",
   "execution_count": null,
   "metadata": {},
   "outputs": [],
   "source": []
  },
  {
   "cell_type": "code",
   "execution_count": null,
   "metadata": {},
   "outputs": [],
   "source": []
  }
 ],
 "metadata": {
  "kernelspec": {
   "display_name": "Python 3",
   "language": "python",
   "name": "python3"
  },
  "language_info": {
   "codemirror_mode": {
    "name": "ipython",
    "version": 3
   },
   "file_extension": ".py",
   "mimetype": "text/x-python",
   "name": "python",
   "nbconvert_exporter": "python",
   "pygments_lexer": "ipython3",
   "version": "3.10.0"
  },
  "orig_nbformat": 4
 },
 "nbformat": 4,
 "nbformat_minor": 2
}
