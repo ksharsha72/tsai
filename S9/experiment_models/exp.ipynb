{
 "cells": [
  {
   "cell_type": "code",
   "execution_count": 1,
   "metadata": {},
   "outputs": [],
   "source": [
    "import torch\n",
    "import torch.nn as nn\n",
    "import torch.nn.functional as F\n",
    "import torch.optim as optim"
   ]
  },
  {
   "cell_type": "code",
   "execution_count": 71,
   "metadata": {},
   "outputs": [],
   "source": [
    "x = nn.Conv2d(3,16,3)"
   ]
  },
  {
   "cell_type": "code",
   "execution_count": 72,
   "metadata": {},
   "outputs": [],
   "source": [
    "y = nn.Conv2d(16,32,3,groups=16)"
   ]
  },
  {
   "cell_type": "code",
   "execution_count": null,
   "metadata": {},
   "outputs": [],
   "source": []
  },
  {
   "cell_type": "code",
   "execution_count": 7,
   "metadata": {},
   "outputs": [],
   "source": [
    "z = nn.Conv2d(16,32,3,dilation=2)"
   ]
  },
  {
   "cell_type": "code",
   "execution_count": 74,
   "metadata": {},
   "outputs": [],
   "source": [
    "img = torch.rand((3,32,32))"
   ]
  },
  {
   "cell_type": "code",
   "execution_count": 76,
   "metadata": {},
   "outputs": [],
   "source": [
    "out1 = x(img)"
   ]
  },
  {
   "cell_type": "code",
   "execution_count": 77,
   "metadata": {},
   "outputs": [
    {
     "data": {
      "text/plain": [
       "torch.Size([16, 30, 30])"
      ]
     },
     "execution_count": 77,
     "metadata": {},
     "output_type": "execute_result"
    }
   ],
   "source": [
    "out1.shape"
   ]
  },
  {
   "cell_type": "code",
   "execution_count": 79,
   "metadata": {},
   "outputs": [],
   "source": [
    "out2 = y(out1)"
   ]
  },
  {
   "cell_type": "code",
   "execution_count": 81,
   "metadata": {},
   "outputs": [
    {
     "data": {
      "text/plain": [
       "torch.Size([32, 28, 28])"
      ]
     },
     "execution_count": 81,
     "metadata": {},
     "output_type": "execute_result"
    }
   ],
   "source": [
    "out2.shape"
   ]
  },
  {
   "cell_type": "code",
   "execution_count": 82,
   "metadata": {},
   "outputs": [],
   "source": [
    "# import matplotlib.pyplot as plt\n",
    "# plt.imshow(img.reshape(32,32,3))"
   ]
  },
  {
   "cell_type": "code",
   "execution_count": 16,
   "metadata": {},
   "outputs": [],
   "source": [
    "x = x(img)"
   ]
  },
  {
   "cell_type": "code",
   "execution_count": 26,
   "metadata": {},
   "outputs": [
    {
     "name": "stdout",
     "output_type": "stream",
     "text": [
      "torch.Size([30, 30])\n"
     ]
    },
    {
     "data": {
      "text/plain": [
       "<matplotlib.image.AxesImage at 0x26093f3f730>"
      ]
     },
     "execution_count": 26,
     "metadata": {},
     "output_type": "execute_result"
    },
    {
     "data": {
      "image/png": "[encoded data removed]",
      "text/plain": [
       "<Figure size 640x480 with 1 Axes>"
      ]
     },
     "metadata": {},
     "output_type": "display_data"
    }
   ],
   "source": [
    "vx = torch.sum(x,axis=0)\n",
    "print(vx.shape)\n",
    "plt.imshow(vx.detach().numpy(),cmap='gray')"
   ]
  },
  {
   "cell_type": "code",
   "execution_count": 34,
   "metadata": {},
   "outputs": [],
   "source": [
    "y = y(x)"
   ]
  },
  {
   "cell_type": "code",
   "execution_count": 35,
   "metadata": {},
   "outputs": [
    {
     "data": {
      "text/plain": [
       "torch.Size([32, 28, 28])"
      ]
     },
     "execution_count": 35,
     "metadata": {},
     "output_type": "execute_result"
    }
   ],
   "source": [
    "y.shape"
   ]
  },
  {
   "cell_type": "code",
   "execution_count": 38,
   "metadata": {},
   "outputs": [],
   "source": [
    "z = z(x)"
   ]
  },
  {
   "cell_type": "code",
   "execution_count": 39,
   "metadata": {},
   "outputs": [
    {
     "data": {
      "text/plain": [
       "torch.Size([32, 26, 26])"
      ]
     },
     "execution_count": 39,
     "metadata": {},
     "output_type": "execute_result"
    }
   ],
   "source": [
    "z.shape"
   ]
  },
  {
   "cell_type": "code",
   "execution_count": 40,
   "metadata": {},
   "outputs": [],
   "source": [
    "a = nn.Conv2d(3,32,3,stride=2)"
   ]
  },
  {
   "cell_type": "code",
   "execution_count": 42,
   "metadata": {},
   "outputs": [],
   "source": [
    "a = a(img)"
   ]
  },
  {
   "cell_type": "code",
   "execution_count": 43,
   "metadata": {},
   "outputs": [
    {
     "data": {
      "text/plain": [
       "torch.Size([32, 15, 15])"
      ]
     },
     "execution_count": 43,
     "metadata": {},
     "output_type": "execute_result"
    }
   ],
   "source": [
    "a.shape"
   ]
  },
  {
   "cell_type": "code",
   "execution_count": 51,
   "metadata": {},
   "outputs": [],
   "source": [
    "a = nn.Conv2d(3,32,3,stride=2,padding=1)"
   ]
  },
  {
   "cell_type": "code",
   "execution_count": 52,
   "metadata": {},
   "outputs": [
    {
     "data": {
      "text/plain": [
       "torch.Size([32, 16, 16])"
      ]
     },
     "execution_count": 52,
     "metadata": {},
     "output_type": "execute_result"
    }
   ],
   "source": [
    "a(img).shape"
   ]
  },
  {
   "cell_type": "code",
   "execution_count": 53,
   "metadata": {},
   "outputs": [
    {
     "data": {
      "text/plain": [
       "torch.Size([16, 30, 30])"
      ]
     },
     "execution_count": 53,
     "metadata": {},
     "output_type": "execute_result"
    }
   ],
   "source": [
    "x.shape"
   ]
  },
  {
   "cell_type": "code",
   "execution_count": 54,
   "metadata": {},
   "outputs": [
    {
     "data": {
      "text/plain": [
       "torch.Size([3, 32, 32])"
      ]
     },
     "execution_count": 54,
     "metadata": {},
     "output_type": "execute_result"
    }
   ],
   "source": [
    "img.shape"
   ]
  },
  {
   "cell_type": "code",
   "execution_count": 57,
   "metadata": {},
   "outputs": [],
   "source": [
    "a = nn.Conv2d(3,32,3,stride=2,padding=1)"
   ]
  },
  {
   "cell_type": "code",
   "execution_count": 58,
   "metadata": {},
   "outputs": [
    {
     "data": {
      "text/plain": [
       "torch.Size([32, 16, 16])"
      ]
     },
     "execution_count": 58,
     "metadata": {},
     "output_type": "execute_result"
    }
   ],
   "source": [
    "a(img).shape"
   ]
  },
  {
   "cell_type": "code",
   "execution_count": 67,
   "metadata": {},
   "outputs": [],
   "source": [
    "b = nn.Conv2d(3,32,3,dilation=2,padding=2)"
   ]
  },
  {
   "cell_type": "code",
   "execution_count": 68,
   "metadata": {},
   "outputs": [
    {
     "data": {
      "text/plain": [
       "torch.Size([32, 32, 32])"
      ]
     },
     "execution_count": 68,
     "metadata": {},
     "output_type": "execute_result"
    }
   ],
   "source": [
    "b(img).shape"
   ]
  },
  {
   "cell_type": "code",
   "execution_count": null,
   "metadata": {},
   "outputs": [],
   "source": []
  },
  {
   "cell_type": "code",
   "execution_count": 84,
   "metadata": {},
   "outputs": [],
   "source": [
    "img = torch.rand([128,32,32])"
   ]
  },
  {
   "cell_type": "code",
   "execution_count": 85,
   "metadata": {},
   "outputs": [],
   "source": [
    "conv1 = nn.Conv2d(128,256,3)"
   ]
  },
  {
   "cell_type": "code",
   "execution_count": 87,
   "metadata": {},
   "outputs": [
    {
     "data": {
      "text/plain": [
       "torch.Size([256, 30, 30])"
      ]
     },
     "execution_count": 87,
     "metadata": {},
     "output_type": "execute_result"
    }
   ],
   "source": [
    "conv1(img).shape"
   ]
  },
  {
   "cell_type": "code",
   "execution_count": 88,
   "metadata": {},
   "outputs": [],
   "source": [
    "conv2 = nn.Conv2d(128,256,3,groups=128)"
   ]
  },
  {
   "cell_type": "code",
   "execution_count": 89,
   "metadata": {},
   "outputs": [
    {
     "data": {
      "text/plain": [
       "torch.Size([256, 30, 30])"
      ]
     },
     "execution_count": 89,
     "metadata": {},
     "output_type": "execute_result"
    }
   ],
   "source": [
    "conv2(img).shape"
   ]
  },
  {
   "cell_type": "code",
   "execution_count": 90,
   "metadata": {},
   "outputs": [
    {
     "data": {
      "text/plain": [
       "torch.Size([256, 128, 3, 3])"
      ]
     },
     "execution_count": 90,
     "metadata": {},
     "output_type": "execute_result"
    }
   ],
   "source": [
    "conv1.weight.shape"
   ]
  },
  {
   "cell_type": "code",
   "execution_count": 91,
   "metadata": {},
   "outputs": [
    {
     "data": {
      "text/plain": [
       "torch.Size([256, 1, 3, 3])"
      ]
     },
     "execution_count": 91,
     "metadata": {},
     "output_type": "execute_result"
    }
   ],
   "source": [
    "conv2.weight.shape"
   ]
  },
  {
   "cell_type": "code",
   "execution_count": 1,
   "metadata": {},
   "outputs": [],
   "source": [
    "from model import *"
   ]
  },
  {
   "cell_type": "code",
   "execution_count": 2,
   "metadata": {},
   "outputs": [],
   "source": [
    "from utils import *"
   ]
  },
  {
   "cell_type": "code",
   "execution_count": 3,
   "metadata": {},
   "outputs": [],
   "source": [
    "model = Model()"
   ]
  },
  {
   "cell_type": "code",
   "execution_count": 4,
   "metadata": {},
   "outputs": [
    {
     "name": "stdout",
     "output_type": "stream",
     "text": [
      "----------------------------------------------------------------\n",
      "        Layer (type)               Output Shape         Param #\n",
      "================================================================\n",
      "            Conv2d-1           [-1, 32, 32, 32]             896\n",
      "              ReLU-2           [-1, 32, 32, 32]               0\n",
      "       BatchNorm2d-3           [-1, 32, 32, 32]              64\n",
      "           Dropout-4           [-1, 32, 32, 32]               0\n",
      "            Conv2d-5           [-1, 64, 32, 32]          18,496\n",
      "              ReLU-6           [-1, 64, 32, 32]               0\n",
      "       BatchNorm2d-7           [-1, 64, 32, 32]             128\n",
      "           Dropout-8           [-1, 64, 32, 32]               0\n",
      "            Conv2d-9           [-1, 32, 30, 30]          18,464\n",
      "             ReLU-10           [-1, 32, 30, 30]               0\n",
      "      BatchNorm2d-11           [-1, 32, 30, 30]              64\n",
      "          Dropout-12           [-1, 32, 30, 30]               0\n",
      "           Conv2d-13           [-1, 32, 30, 30]          18,464\n",
      "             ReLU-14           [-1, 32, 30, 30]               0\n",
      "      BatchNorm2d-15           [-1, 32, 30, 30]              64\n",
      "           Conv2d-16           [-1, 48, 28, 28]          13,872\n",
      "             ReLU-17           [-1, 48, 28, 28]               0\n",
      "      BatchNorm2d-18           [-1, 48, 28, 28]              96\n",
      "          Dropout-19           [-1, 48, 28, 28]               0\n",
      "           Conv2d-20           [-1, 64, 28, 28]          27,712\n",
      "             ReLU-21           [-1, 64, 28, 28]               0\n",
      "      BatchNorm2d-22           [-1, 64, 28, 28]             128\n",
      "          Dropout-23           [-1, 64, 28, 28]               0\n",
      "           Conv2d-24           [-1, 32, 28, 28]          18,464\n",
      "             ReLU-25           [-1, 32, 28, 28]               0\n",
      "      BatchNorm2d-26           [-1, 32, 28, 28]              64\n",
      "          Dropout-27           [-1, 32, 28, 28]               0\n",
      "           Conv2d-28           [-1, 32, 28, 28]          18,464\n",
      "             ReLU-29           [-1, 32, 28, 28]               0\n",
      "      BatchNorm2d-30           [-1, 32, 28, 28]              64\n",
      "          Dropout-31           [-1, 32, 28, 28]               0\n",
      "           Conv2d-32           [-1, 48, 26, 26]          13,872\n",
      "             ReLU-33           [-1, 48, 26, 26]               0\n",
      "      BatchNorm2d-34           [-1, 48, 26, 26]              96\n",
      "          Dropout-35           [-1, 48, 26, 26]               0\n",
      "           Conv2d-36           [-1, 32, 12, 12]          13,856\n",
      "             ReLU-37           [-1, 32, 12, 12]               0\n",
      "      BatchNorm2d-38           [-1, 32, 12, 12]              64\n",
      "          Dropout-39           [-1, 32, 12, 12]               0\n",
      "           Conv2d-40           [-1, 64, 12, 12]             640\n",
      "             ReLU-41           [-1, 64, 12, 12]               0\n",
      "      BatchNorm2d-42           [-1, 64, 12, 12]             128\n",
      "          Dropout-43           [-1, 64, 12, 12]               0\n",
      "           Conv2d-44           [-1, 48, 12, 12]           3,120\n",
      "           Conv2d-45           [-1, 32, 12, 12]          13,856\n",
      "             ReLU-46           [-1, 32, 12, 12]               0\n",
      "      BatchNorm2d-47           [-1, 32, 12, 12]              64\n",
      "          Dropout-48           [-1, 32, 12, 12]               0\n",
      "           Conv2d-49           [-1, 24, 12, 12]           6,936\n",
      "             ReLU-50           [-1, 24, 12, 12]               0\n",
      "      BatchNorm2d-51           [-1, 24, 12, 12]              48\n",
      "          Dropout-52           [-1, 24, 12, 12]               0\n",
      "           Conv2d-53             [-1, 10, 5, 5]           2,170\n",
      "             ReLU-54             [-1, 10, 5, 5]               0\n",
      "      BatchNorm2d-55             [-1, 10, 5, 5]              20\n",
      "          Dropout-56             [-1, 10, 5, 5]               0\n",
      "        AvgPool2d-57             [-1, 10, 1, 1]               0\n",
      "================================================================\n",
      "Total params: 190,374\n",
      "Trainable params: 190,374\n",
      "Non-trainable params: 0\n",
      "----------------------------------------------------------------\n",
      "Input size (MB): 0.01\n",
      "Forward/backward pass size (MB): 10.47\n",
      "Params size (MB): 0.73\n",
      "Estimated Total Size (MB): 11.21\n",
      "----------------------------------------------------------------\n"
     ]
    },
    {
     "name": "stderr",
     "output_type": "stream",
     "text": [
      "c:\\Users\\SriHarsha\\Desktop\\S6\\S9\\model.py:112: UserWarning: Implicit dimension choice for log_softmax has been deprecated. Change the call to include dim=X as an argument.\n",
      "  return F.log_softmax(x)\n"
     ]
    },
    {
     "data": {
      "text/plain": [
       "(Model(\n",
       "   (layer1): Sequential(\n",
       "     (0): Conv2d(3, 32, kernel_size=(3, 3), stride=(1, 1), padding=(1, 1))\n",
       "     (1): ReLU()\n",
       "     (2): BatchNorm2d(32, eps=1e-05, momentum=0.1, affine=True, track_running_stats=True)\n",
       "     (3): Dropout(p=0.1, inplace=False)\n",
       "   )\n",
       "   (layer2): Sequential(\n",
       "     (0): Conv2d(32, 64, kernel_size=(3, 3), stride=(1, 1), padding=(1, 1))\n",
       "     (1): ReLU()\n",
       "     (2): BatchNorm2d(64, eps=1e-05, momentum=0.1, affine=True, track_running_stats=True)\n",
       "     (3): Dropout(p=0.1, inplace=False)\n",
       "   )\n",
       "   (dil1): Sequential(\n",
       "     (0): Conv2d(64, 32, kernel_size=(3, 3), stride=(1, 1), padding=(1, 1), dilation=(2, 2))\n",
       "     (1): ReLU()\n",
       "     (2): BatchNorm2d(32, eps=1e-05, momentum=0.1, affine=True, track_running_stats=True)\n",
       "     (3): Dropout(p=0.1, inplace=False)\n",
       "   )\n",
       "   (layer3): Sequential(\n",
       "     (0): Conv2d(64, 32, kernel_size=(3, 3), stride=(1, 1))\n",
       "     (1): ReLU()\n",
       "     (2): BatchNorm2d(32, eps=1e-05, momentum=0.1, affine=True, track_running_stats=True)\n",
       "   )\n",
       "   (layer4): Sequential(\n",
       "     (0): Conv2d(32, 48, kernel_size=(3, 3), stride=(1, 1))\n",
       "     (1): ReLU()\n",
       "     (2): BatchNorm2d(48, eps=1e-05, momentum=0.1, affine=True, track_running_stats=True)\n",
       "     (3): Dropout(p=0.1, inplace=False)\n",
       "   )\n",
       "   (layer5): Sequential(\n",
       "     (0): Conv2d(48, 64, kernel_size=(3, 3), stride=(1, 1), padding=(1, 1))\n",
       "     (1): ReLU()\n",
       "     (2): BatchNorm2d(64, eps=1e-05, momentum=0.1, affine=True, track_running_stats=True)\n",
       "     (3): Dropout(p=0.1, inplace=False)\n",
       "   )\n",
       "   (dil2): Sequential(\n",
       "     (0): Conv2d(64, 32, kernel_size=(3, 3), stride=(1, 1), padding=(2, 2), dilation=(2, 2))\n",
       "     (1): ReLU()\n",
       "     (2): BatchNorm2d(32, eps=1e-05, momentum=0.1, affine=True, track_running_stats=True)\n",
       "     (3): Dropout(p=0.1, inplace=False)\n",
       "   )\n",
       "   (layer6): Sequential(\n",
       "     (0): Conv2d(64, 32, kernel_size=(3, 3), stride=(1, 1), padding=(1, 1))\n",
       "     (1): ReLU()\n",
       "     (2): BatchNorm2d(32, eps=1e-05, momentum=0.1, affine=True, track_running_stats=True)\n",
       "     (3): Dropout(p=0.1, inplace=False)\n",
       "   )\n",
       "   (layer7): Sequential(\n",
       "     (0): Conv2d(32, 48, kernel_size=(3, 3), stride=(1, 1))\n",
       "     (1): ReLU()\n",
       "     (2): BatchNorm2d(48, eps=1e-05, momentum=0.1, affine=True, track_running_stats=True)\n",
       "     (3): Dropout(p=0.1, inplace=False)\n",
       "   )\n",
       "   (layer8): Sequential(\n",
       "     (0): Conv2d(48, 32, kernel_size=(3, 3), stride=(2, 2))\n",
       "     (1): ReLU()\n",
       "     (2): BatchNorm2d(32, eps=1e-05, momentum=0.1, affine=True, track_running_stats=True)\n",
       "     (3): Dropout(p=0.1, inplace=False)\n",
       "   )\n",
       "   (dw_sep2): Sequential(\n",
       "     (0): Conv2d(32, 64, kernel_size=(3, 3), stride=(1, 1), padding=(1, 1), groups=32)\n",
       "     (1): ReLU()\n",
       "     (2): BatchNorm2d(64, eps=1e-05, momentum=0.1, affine=True, track_running_stats=True)\n",
       "     (3): Dropout(p=0.1, inplace=False)\n",
       "     (4): Conv2d(64, 48, kernel_size=(1, 1), stride=(1, 1))\n",
       "   )\n",
       "   (layer10): Sequential(\n",
       "     (0): Conv2d(48, 32, kernel_size=(3, 3), stride=(1, 1), padding=(1, 1))\n",
       "     (1): ReLU()\n",
       "     (2): BatchNorm2d(32, eps=1e-05, momentum=0.1, affine=True, track_running_stats=True)\n",
       "     (3): Dropout(p=0.1, inplace=False)\n",
       "   )\n",
       "   (layer11): Sequential(\n",
       "     (0): Conv2d(32, 24, kernel_size=(3, 3), stride=(1, 1), padding=(1, 1))\n",
       "     (1): ReLU()\n",
       "     (2): BatchNorm2d(24, eps=1e-05, momentum=0.1, affine=True, track_running_stats=True)\n",
       "     (3): Dropout(p=0.1, inplace=False)\n",
       "   )\n",
       "   (layer12): Sequential(\n",
       "     (0): Conv2d(24, 10, kernel_size=(3, 3), stride=(2, 2))\n",
       "     (1): ReLU()\n",
       "     (2): BatchNorm2d(10, eps=1e-05, momentum=0.1, affine=True, track_running_stats=True)\n",
       "     (3): Dropout(p=0.1, inplace=False)\n",
       "   )\n",
       "   (out): AvgPool2d(kernel_size=5, stride=5, padding=0)\n",
       " ),\n",
       " None)"
      ]
     },
     "execution_count": 4,
     "metadata": {},
     "output_type": "execute_result"
    }
   ],
   "source": [
    "get_summary(model)"
   ]
  },
  {
   "cell_type": "code",
   "execution_count": null,
   "metadata": {},
   "outputs": [],
   "source": []
  },
  {
   "cell_type": "code",
   "execution_count": null,
   "metadata": {},
   "outputs": [],
   "source": []
  }
 ],
 "metadata": {
  "kernelspec": {
   "display_name": "Python 3",
   "language": "python",
   "name": "python3"
  },
  "language_info": {
   "codemirror_mode": {
    "name": "ipython",
    "version": 3
   },
   "file_extension": ".py",
   "mimetype": "text/x-python",
   "name": "python",
   "nbconvert_exporter": "python",
   "pygments_lexer": "ipython3",
   "version": "3.10.0"
  },
  "orig_nbformat": 4
 },
 "nbformat": 4,
 "nbformat_minor": 2
}
