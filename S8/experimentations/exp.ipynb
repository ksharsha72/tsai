{
 "cells": [
  {
   "cell_type": "code",
   "execution_count": 1,
   "metadata": {},
   "outputs": [],
   "source": [
    "import torch.nn as nn"
   ]
  },
  {
   "cell_type": "code",
   "execution_count": 21,
   "metadata": {},
   "outputs": [],
   "source": [
    "simple_network  = nn.ModuleList([nn.Sequential(nn.Conv2d(3,32,3),nn.ReLU(),nn.Dropout(0.1)),\n",
    "nn.Sequential(nn.Conv2d(32,56,3),nn.ReLU(),nn.Dropout(0.1))])"
   ]
  },
  {
   "cell_type": "code",
   "execution_count": 6,
   "metadata": {},
   "outputs": [
    {
     "name": "stdout",
     "output_type": "stream",
     "text": [
      "32\n",
      "32\n",
      "56\n",
      "56\n"
     ]
    }
   ],
   "source": [
    "for param in simple_network.parameters():\n",
    "    print(len(param))"
   ]
  },
  {
   "cell_type": "code",
   "execution_count": 42,
   "metadata": {},
   "outputs": [],
   "source": [
    "# for child in simple_network.children():\n",
    "#     # print(child)\n",
    "#     print(child[0])\n",
    "#     for sub_child in child[0].parameters():\n",
    "#         # len(sub_child)\n",
    "#         # print(type(sub_child))\n",
    "#         # print(sub_child.shape)\n",
    "#         # print(sub_child.shape)\n",
    "#         # print(sub_child[0].shape)\n",
    "#         # print(sub_child.size())\n",
    "#         print(sub_child[0].size())\n",
    "#         print(sub_child[0][0])"
   ]
  },
  {
   "cell_type": "code",
   "execution_count": 43,
   "metadata": {},
   "outputs": [],
   "source": [
    "# from PIL import Image\n",
    "# np_kernel = sub_child[0].detach().numpy()\n",
    "# print(np_kernel.shape)\n",
    "# Image.fromarray(np_kernel)"
   ]
  },
  {
   "cell_type": "code",
   "execution_count": 101,
   "metadata": {},
   "outputs": [
    {
     "name": "stderr",
     "output_type": "stream",
     "text": [
      "Clipping input data to the valid range for imshow with RGB data ([0..1] for floats or [0..255] for integers).\n"
     ]
    },
    {
     "name": "stdout",
     "output_type": "stream",
     "text": [
      "Conv2d(3, 32, kernel_size=(3, 3), stride=(1, 1))\n",
      "*********\n",
      "torch.Size([32, 3, 3, 3])\n",
      "(3, 3, 3)\n"
     ]
    },
    {
     "data": {
      "image/png": "[encoded data removed]",
      "text/plain": [
       "<Figure size 640x480 with 1 Axes>"
      ]
     },
     "metadata": {},
     "output_type": "display_data"
    },
    {
     "name": "stdout",
     "output_type": "stream",
     "text": [
      "torch.Size([32])\n"
     ]
    },
    {
     "ename": "IndexError",
     "evalue": "tuple index out of range",
     "output_type": "error",
     "traceback": [
      "\u001b[1;31m---------------------------------------------------------------------------\u001b[0m",
      "\u001b[1;31mIndexError\u001b[0m                                Traceback (most recent call last)",
      "Cell \u001b[1;32mIn[101], line 14\u001b[0m\n\u001b[0;32m     10\u001b[0m \u001b[39mfor\u001b[39;00m i \u001b[39min\u001b[39;00m \u001b[39mrange\u001b[39m(\u001b[39mlen\u001b[39m(param)):\n\u001b[0;32m     11\u001b[0m     \u001b[39m# img = Image.fromarray(param[0].detach().numpy(),'RGB')\u001b[39;00m\n\u001b[0;32m     12\u001b[0m     \u001b[39m# img.show()\u001b[39;00m\n\u001b[0;32m     13\u001b[0m     \u001b[39mprint\u001b[39m(param\u001b[39m.\u001b[39mshape)\n\u001b[1;32m---> 14\u001b[0m     \u001b[39mif\u001b[39;00m param\u001b[39m.\u001b[39;49mshape[\u001b[39m1\u001b[39;49m] \u001b[39m<\u001b[39m \u001b[39m4\u001b[39m:\n\u001b[0;32m     15\u001b[0m         \u001b[39mprint\u001b[39m(param[\u001b[39m0\u001b[39m]\u001b[39m.\u001b[39mdetach()\u001b[39m.\u001b[39mnumpy()\u001b[39m.\u001b[39mshape)\n\u001b[0;32m     16\u001b[0m         plt\u001b[39m.\u001b[39mimshow(param[\u001b[39m0\u001b[39m]\u001b[39m.\u001b[39mdetach()\u001b[39m.\u001b[39mnumpy())\n",
      "\u001b[1;31mIndexError\u001b[0m: tuple index out of range"
     ]
    }
   ],
   "source": [
    "import matplotlib.pyplot as plt\n",
    "\n",
    "for mod in simple_network.named_children():\n",
    "    print(mod[1][0])\n",
    "    print(\"*********\")\n",
    "    for param in mod[1][0].parameters():\n",
    "        # print('----------')\n",
    "        # print(len(param))\n",
    "        # print(param.shape)\n",
    "        for i in range(len(param)):\n",
    "            # img = Image.fromarray(param[0].detach().numpy(),'RGB')\n",
    "            # img.show()\n",
    "        if len(param.shape) > 1:\n",
    "            if param.shape[1] < 4:\n",
    "                print(param[0].detach().numpy().shape)\n",
    "                plt.imshow(param[0].detach().numpy())\n",
    "                plt.show()\n",
    "                break\n",
    "                \n",
    "\n",
    "            else:\n",
    "                print(param.shape)\n",
    "                break\n",
    "\n",
    "            # plt.imshow(param[0].detach().numpy(),interpolation='nearest')\n",
    "        \n",
    "            "
   ]
  },
  {
   "cell_type": "code",
   "execution_count": null,
   "metadata": {},
   "outputs": [],
   "source": []
  }
 ],
 "metadata": {
  "kernelspec": {
   "display_name": "Python 3",
   "language": "python",
   "name": "python3"
  },
  "language_info": {
   "codemirror_mode": {
    "name": "ipython",
    "version": 3
   },
   "file_extension": ".py",
   "mimetype": "text/x-python",
   "name": "python",
   "nbconvert_exporter": "python",
   "pygments_lexer": "ipython3",
   "version": "3.10.0"
  },
  "orig_nbformat": 4
 },
 "nbformat": 4,
 "nbformat_minor": 2
}
