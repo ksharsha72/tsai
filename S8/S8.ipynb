{
 "cells": [
  {
   "cell_type": "code",
   "execution_count": 3,
   "metadata": {},
   "outputs": [],
   "source": [
    "from model_3 import *\n",
    "from utils import *"
   ]
  },
  {
   "cell_type": "code",
   "execution_count": 4,
   "metadata": {},
   "outputs": [
    {
     "name": "stdout",
     "output_type": "stream",
     "text": [
      "----------------------------------------------------------------\n",
      "        Layer (type)               Output Shape         Param #\n",
      "================================================================\n",
      "            Conv2d-1           [-1, 16, 32, 32]             448\n",
      "              ReLU-2           [-1, 16, 32, 32]               0\n",
      "         GroupNorm-3           [-1, 16, 32, 32]              32\n",
      "           Dropout-4           [-1, 16, 32, 32]               0\n",
      "            Conv2d-5           [-1, 32, 32, 32]           4,640\n",
      "              ReLU-6           [-1, 32, 32, 32]               0\n",
      "         GroupNorm-7           [-1, 32, 32, 32]              64\n",
      "           Dropout-8           [-1, 32, 32, 32]               0\n",
      "            Conv2d-9           [-1, 56, 32, 32]           1,848\n",
      "        MaxPool2d-10           [-1, 56, 16, 16]               0\n",
      "           Conv2d-11           [-1, 32, 14, 14]          16,160\n",
      "             ReLU-12           [-1, 32, 14, 14]               0\n",
      "        GroupNorm-13           [-1, 32, 14, 14]              64\n",
      "          Dropout-14           [-1, 32, 14, 14]               0\n",
      "           Conv2d-15           [-1, 16, 14, 14]           4,624\n",
      "             ReLU-16           [-1, 16, 14, 14]               0\n",
      "        GroupNorm-17           [-1, 16, 14, 14]              32\n",
      "          Dropout-18           [-1, 16, 14, 14]               0\n",
      "           Conv2d-19           [-1, 16, 14, 14]           2,320\n",
      "             ReLU-20           [-1, 16, 14, 14]               0\n",
      "        GroupNorm-21           [-1, 16, 14, 14]              32\n",
      "          Dropout-22           [-1, 16, 14, 14]               0\n",
      "           Conv2d-23           [-1, 24, 14, 14]             408\n",
      "        MaxPool2d-24             [-1, 24, 7, 7]               0\n",
      "           Conv2d-25             [-1, 32, 7, 7]           6,944\n",
      "             ReLU-26             [-1, 32, 7, 7]               0\n",
      "        GroupNorm-27             [-1, 32, 7, 7]              64\n",
      "          Dropout-28             [-1, 32, 7, 7]               0\n",
      "           Conv2d-29             [-1, 16, 7, 7]           4,624\n",
      "             ReLU-30             [-1, 16, 7, 7]               0\n",
      "        GroupNorm-31             [-1, 16, 7, 7]              32\n",
      "          Dropout-32             [-1, 16, 7, 7]               0\n",
      "           Conv2d-33             [-1, 12, 7, 7]           1,740\n",
      "             ReLU-34             [-1, 12, 7, 7]               0\n",
      "        GroupNorm-35             [-1, 12, 7, 7]              24\n",
      "          Dropout-36             [-1, 12, 7, 7]               0\n",
      "        AvgPool2d-37             [-1, 12, 1, 1]               0\n",
      "           Conv2d-38             [-1, 10, 1, 1]             130\n",
      "================================================================\n",
      "Total params: 44,230\n",
      "Trainable params: 44,230\n",
      "Non-trainable params: 0\n",
      "----------------------------------------------------------------\n",
      "Input size (MB): 0.01\n",
      "Forward/backward pass size (MB): 2.56\n",
      "Params size (MB): 0.17\n",
      "Estimated Total Size (MB): 2.74\n",
      "----------------------------------------------------------------\n"
     ]
    },
    {
     "name": "stderr",
     "output_type": "stream",
     "text": [
      "c:\\Users\\SriHarsha\\Desktop\\S6\\S8\\model_3.py:88: UserWarning: Implicit dimension choice for log_softmax has been deprecated. Change the call to include dim=X as an argument.\n",
      "  return F.log_softmax(x)\n"
     ]
    },
    {
     "data": {
      "text/plain": [
       "(Model3(\n",
       "   (block1): Sequential(\n",
       "     (0): Conv2d(3, 16, kernel_size=(3, 3), stride=(1, 1), padding=(1, 1))\n",
       "     (1): ReLU()\n",
       "     (2): GroupNorm(2, 16, eps=1e-05, affine=True)\n",
       "     (3): Dropout(p=0.1, inplace=False)\n",
       "   )\n",
       "   (block2): Sequential(\n",
       "     (0): Conv2d(16, 32, kernel_size=(3, 3), stride=(1, 1), padding=(1, 1))\n",
       "     (1): ReLU()\n",
       "     (2): GroupNorm(2, 32, eps=1e-05, affine=True)\n",
       "     (3): Dropout(p=0.1, inplace=False)\n",
       "   )\n",
       "   (transition_block1): Conv2d(32, 56, kernel_size=(1, 1), stride=(1, 1))\n",
       "   (pool1): MaxPool2d(kernel_size=2, stride=2, padding=0, dilation=1, ceil_mode=False)\n",
       "   (block3): Sequential(\n",
       "     (0): Conv2d(56, 32, kernel_size=(3, 3), stride=(1, 1))\n",
       "     (1): ReLU()\n",
       "     (2): GroupNorm(2, 32, eps=1e-05, affine=True)\n",
       "     (3): Dropout(p=0.1, inplace=False)\n",
       "   )\n",
       "   (block4): Sequential(\n",
       "     (0): Conv2d(32, 16, kernel_size=(3, 3), stride=(1, 1), padding=(1, 1))\n",
       "     (1): ReLU()\n",
       "     (2): GroupNorm(2, 16, eps=1e-05, affine=True)\n",
       "     (3): Dropout(p=0.1, inplace=False)\n",
       "   )\n",
       "   (block5): Sequential(\n",
       "     (0): Conv2d(16, 16, kernel_size=(3, 3), stride=(1, 1), padding=(1, 1))\n",
       "     (1): ReLU()\n",
       "     (2): GroupNorm(2, 16, eps=1e-05, affine=True)\n",
       "     (3): Dropout(p=0.1, inplace=False)\n",
       "   )\n",
       "   (transition_block2): Conv2d(16, 24, kernel_size=(1, 1), stride=(1, 1))\n",
       "   (pool2): MaxPool2d(kernel_size=2, stride=2, padding=0, dilation=1, ceil_mode=False)\n",
       "   (block6): Sequential(\n",
       "     (0): Conv2d(24, 32, kernel_size=(3, 3), stride=(1, 1), padding=(1, 1))\n",
       "     (1): ReLU()\n",
       "     (2): GroupNorm(2, 32, eps=1e-05, affine=True)\n",
       "     (3): Dropout(p=0.1, inplace=False)\n",
       "   )\n",
       "   (block7): Sequential(\n",
       "     (0): Conv2d(32, 16, kernel_size=(3, 3), stride=(1, 1), padding=(1, 1))\n",
       "     (1): ReLU()\n",
       "     (2): GroupNorm(2, 16, eps=1e-05, affine=True)\n",
       "     (3): Dropout(p=0.1, inplace=False)\n",
       "   )\n",
       "   (block8): Sequential(\n",
       "     (0): Conv2d(16, 12, kernel_size=(3, 3), stride=(1, 1), padding=(1, 1))\n",
       "     (1): ReLU()\n",
       "     (2): GroupNorm(2, 12, eps=1e-05, affine=True)\n",
       "     (3): Dropout(p=0.1, inplace=False)\n",
       "   )\n",
       "   (pool3): AvgPool2d(kernel_size=6, stride=6, padding=0)\n",
       "   (block9): Conv2d(12, 10, kernel_size=(1, 1), stride=(1, 1))\n",
       " ),\n",
       " None)"
      ]
     },
     "execution_count": 4,
     "metadata": {},
     "output_type": "execute_result"
    }
   ],
   "source": [
    "model = Model3()\n",
    "get_summary(model)"
   ]
  },
  {
   "cell_type": "code",
   "execution_count": 12,
   "metadata": {},
   "outputs": [
    {
     "name": "stdout",
     "output_type": "stream",
     "text": [
      "Conv2d(3, 16, kernel_size=(3, 3), stride=(1, 1), padding=(1, 1))\n",
      "Conv2d(16, 32, kernel_size=(3, 3), stride=(1, 1), padding=(1, 1))\n",
      "Conv2d(56, 32, kernel_size=(3, 3), stride=(1, 1))\n",
      "Conv2d(32, 16, kernel_size=(3, 3), stride=(1, 1), padding=(1, 1))\n",
      "Conv2d(16, 16, kernel_size=(3, 3), stride=(1, 1), padding=(1, 1))\n",
      "Conv2d(24, 32, kernel_size=(3, 3), stride=(1, 1), padding=(1, 1))\n",
      "Conv2d(32, 16, kernel_size=(3, 3), stride=(1, 1), padding=(1, 1))\n",
      "Conv2d(16, 12, kernel_size=(3, 3), stride=(1, 1), padding=(1, 1))\n"
     ]
    }
   ],
   "source": [
    "import matplotlib.pyplot as plt\n",
    "for child in model.children():\n",
    "   if type(child) == nn.Sequential:\n",
    "      for child1 in child:\n",
    "         if type(child1) == nn.Conv2d:\n",
    "            for idx,param in enumerate(child1.parameters()):\n",
    "               if idx==0 and param[1]<=3:\n",
    "                     for i in range(param[0]):\n",
    "                        plt.imshow(param[i].detach().numpy())\n",
    "                        plt.show()\n",
    "                        \n",
    "                     \n",
    "                  \n",
    "               "
   ]
  },
  {
   "cell_type": "code",
   "execution_count": 15,
   "metadata": {},
   "outputs": [
    {
     "name": "stdout",
     "output_type": "stream",
     "text": [
      "0\n",
      "1\n"
     ]
    }
   ],
   "source": [
    "for i,j in enumerate([1,2]):\n",
    "    print(i)"
   ]
  },
  {
   "cell_type": "code",
   "execution_count": null,
   "metadata": {},
   "outputs": [],
   "source": []
  }
 ],
 "metadata": {
  "kernelspec": {
   "display_name": "Python 3",
   "language": "python",
   "name": "python3"
  },
  "language_info": {
   "codemirror_mode": {
    "name": "ipython",
    "version": 3
   },
   "file_extension": ".py",
   "mimetype": "text/x-python",
   "name": "python",
   "nbconvert_exporter": "python",
   "pygments_lexer": "ipython3",
   "version": "3.10.0"
  },
  "orig_nbformat": 4
 },
 "nbformat": 4,
 "nbformat_minor": 2
}
