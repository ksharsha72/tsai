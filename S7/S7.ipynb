{
 "cells": [
  {
   "cell_type": "code",
   "execution_count": 1,
   "metadata": {},
   "outputs": [],
   "source": [
    "from models import  *"
   ]
  },
  {
   "cell_type": "code",
   "execution_count": 2,
   "metadata": {},
   "outputs": [],
   "source": [
    "from utils import *"
   ]
  },
  {
   "cell_type": "code",
   "execution_count": 3,
   "metadata": {},
   "outputs": [],
   "source": [
    "model = Model4()"
   ]
  },
  {
   "cell_type": "code",
   "execution_count": 4,
   "metadata": {},
   "outputs": [
    {
     "name": "stdout",
     "output_type": "stream",
     "text": [
      "----------------------------------------------------------------\n",
      "        Layer (type)               Output Shape         Param #\n",
      "================================================================\n",
      "            Conv2d-1           [-1, 16, 26, 26]             160\n",
      "              ReLU-2           [-1, 16, 26, 26]               0\n",
      "       BatchNorm2d-3           [-1, 16, 26, 26]              32\n",
      "           Dropout-4           [-1, 16, 26, 26]               0\n",
      "            Conv2d-5           [-1, 12, 24, 24]           1,740\n",
      "              ReLU-6           [-1, 12, 24, 24]               0\n",
      "       BatchNorm2d-7           [-1, 12, 24, 24]              24\n",
      "           Dropout-8           [-1, 12, 24, 24]               0\n",
      "            Conv2d-9           [-1, 24, 24, 24]             312\n",
      "        MaxPool2d-10           [-1, 24, 12, 12]               0\n",
      "           Conv2d-11           [-1, 12, 10, 10]           2,604\n",
      "             ReLU-12           [-1, 12, 10, 10]               0\n",
      "      BatchNorm2d-13           [-1, 12, 10, 10]              24\n",
      "          Dropout-14           [-1, 12, 10, 10]               0\n",
      "           Conv2d-15             [-1, 14, 8, 8]           1,526\n",
      "             ReLU-16             [-1, 14, 8, 8]               0\n",
      "      BatchNorm2d-17             [-1, 14, 8, 8]              28\n",
      "          Dropout-18             [-1, 14, 8, 8]               0\n",
      "           Conv2d-19             [-1, 11, 6, 6]           1,397\n",
      "             ReLU-20             [-1, 11, 6, 6]               0\n",
      "           Conv2d-21             [-1, 10, 6, 6]             120\n",
      "        AvgPool2d-22             [-1, 10, 1, 1]               0\n",
      "================================================================\n",
      "Total params: 7,967\n",
      "Trainable params: 7,967\n",
      "Non-trainable params: 0\n",
      "----------------------------------------------------------------\n",
      "Input size (MB): 0.00\n",
      "Forward/backward pass size (MB): 0.75\n",
      "Params size (MB): 0.03\n",
      "Estimated Total Size (MB): 0.78\n",
      "----------------------------------------------------------------\n"
     ]
    },
    {
     "data": {
      "text/plain": [
       "(Model4(\n",
       "   (block1): Sequential(\n",
       "     (0): Conv2d(1, 16, kernel_size=(3, 3), stride=(1, 1))\n",
       "     (1): ReLU()\n",
       "     (2): BatchNorm2d(16, eps=1e-05, momentum=0.1, affine=True, track_running_stats=True)\n",
       "     (3): Dropout(p=0.2, inplace=False)\n",
       "   )\n",
       "   (block2): Sequential(\n",
       "     (0): Conv2d(16, 12, kernel_size=(3, 3), stride=(1, 1))\n",
       "     (1): ReLU()\n",
       "     (2): BatchNorm2d(12, eps=1e-05, momentum=0.1, affine=True, track_running_stats=True)\n",
       "     (3): Dropout(p=0.2, inplace=False)\n",
       "   )\n",
       "   (transition_block1): Conv2d(12, 24, kernel_size=(1, 1), stride=(1, 1))\n",
       "   (pool1): MaxPool2d(kernel_size=2, stride=2, padding=0, dilation=1, ceil_mode=False)\n",
       "   (block3): Sequential(\n",
       "     (0): Conv2d(24, 12, kernel_size=(3, 3), stride=(1, 1))\n",
       "     (1): ReLU()\n",
       "     (2): BatchNorm2d(12, eps=1e-05, momentum=0.1, affine=True, track_running_stats=True)\n",
       "     (3): Dropout(p=0.2, inplace=False)\n",
       "   )\n",
       "   (block4): Sequential(\n",
       "     (0): Conv2d(12, 14, kernel_size=(3, 3), stride=(1, 1))\n",
       "     (1): ReLU()\n",
       "     (2): BatchNorm2d(14, eps=1e-05, momentum=0.1, affine=True, track_running_stats=True)\n",
       "     (3): Dropout(p=0.2, inplace=False)\n",
       "   )\n",
       "   (block5): Sequential(\n",
       "     (0): Conv2d(14, 11, kernel_size=(3, 3), stride=(1, 1))\n",
       "     (1): ReLU()\n",
       "   )\n",
       "   (transition_block2): Conv2d(11, 10, kernel_size=(1, 1), stride=(1, 1))\n",
       "   (pool2): AvgPool2d(kernel_size=6, stride=6, padding=0)\n",
       " ),\n",
       " None)"
      ]
     },
     "execution_count": 4,
     "metadata": {},
     "output_type": "execute_result"
    }
   ],
   "source": [
    "get_summary(model)"
   ]
  },
  {
   "cell_type": "code",
   "execution_count": null,
   "metadata": {},
   "outputs": [],
   "source": []
  },
  {
   "cell_type": "code",
   "execution_count": null,
   "metadata": {},
   "outputs": [],
   "source": []
  }
 ],
 "metadata": {
  "kernelspec": {
   "display_name": "Python 3",
   "language": "python",
   "name": "python3"
  },
  "language_info": {
   "codemirror_mode": {
    "name": "ipython",
    "version": 3
   },
   "file_extension": ".py",
   "mimetype": "text/x-python",
   "name": "python",
   "nbconvert_exporter": "python",
   "pygments_lexer": "ipython3",
   "version": "3.10.0"
  },
  "orig_nbformat": 4
 },
 "nbformat": 4,
 "nbformat_minor": 2
}
