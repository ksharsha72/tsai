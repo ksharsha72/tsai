{
 "cells": [
  {
   "cell_type": "code",
   "execution_count": 1,
   "metadata": {},
   "outputs": [],
   "source": [
    "from models import  *"
   ]
  },
  {
   "cell_type": "code",
   "execution_count": 2,
   "metadata": {},
   "outputs": [],
   "source": [
    "from utils import *"
   ]
  },
  {
   "cell_type": "code",
   "execution_count": 3,
   "metadata": {},
   "outputs": [],
   "source": [
    "model = Model3()"
   ]
  },
  {
   "cell_type": "code",
   "execution_count": 4,
   "metadata": {},
   "outputs": [
    {
     "name": "stdout",
     "output_type": "stream",
     "text": [
      "----------------------------------------------------------------\n",
      "        Layer (type)               Output Shape         Param #\n",
      "================================================================\n",
      "            Conv2d-1           [-1, 10, 26, 26]             100\n",
      "       BatchNorm2d-2           [-1, 10, 26, 26]              20\n",
      "           Dropout-3           [-1, 10, 26, 26]               0\n",
      "            Conv2d-4           [-1, 14, 24, 24]           1,274\n",
      "       BatchNorm2d-5           [-1, 14, 24, 24]              28\n",
      "           Dropout-6           [-1, 14, 24, 24]               0\n",
      "            Conv2d-7           [-1, 18, 24, 24]             270\n",
      "         MaxPool2d-8           [-1, 18, 12, 12]               0\n",
      "            Conv2d-9           [-1, 10, 10, 10]           1,630\n",
      "      BatchNorm2d-10           [-1, 10, 10, 10]              20\n",
      "          Dropout-11           [-1, 10, 10, 10]               0\n",
      "           Conv2d-12              [-1, 8, 8, 8]             728\n",
      "      BatchNorm2d-13              [-1, 8, 8, 8]              16\n",
      "          Dropout-14              [-1, 8, 8, 8]               0\n",
      "           Conv2d-15             [-1, 10, 6, 6]             730\n",
      "        AvgPool2d-16             [-1, 10, 1, 1]               0\n",
      "================================================================\n",
      "Total params: 4,816\n",
      "Trainable params: 4,816\n",
      "Non-trainable params: 0\n",
      "----------------------------------------------------------------\n",
      "Input size (MB): 0.00\n",
      "Forward/backward pass size (MB): 0.48\n",
      "Params size (MB): 0.02\n",
      "Estimated Total Size (MB): 0.50\n",
      "----------------------------------------------------------------\n"
     ]
    },
    {
     "data": {
      "text/plain": [
       "(Model3(\n",
       "   (block1): Sequential(\n",
       "     (0): Conv2d(1, 10, kernel_size=(3, 3), stride=(1, 1))\n",
       "     (1): BatchNorm2d(10, eps=1e-05, momentum=0.1, affine=True, track_running_stats=True)\n",
       "     (2): Dropout(p=0.15, inplace=False)\n",
       "   )\n",
       "   (block2): Sequential(\n",
       "     (0): Conv2d(10, 14, kernel_size=(3, 3), stride=(1, 1))\n",
       "     (1): BatchNorm2d(14, eps=1e-05, momentum=0.1, affine=True, track_running_stats=True)\n",
       "     (2): Dropout(p=0.15, inplace=False)\n",
       "   )\n",
       "   (transition_block1): Conv2d(14, 18, kernel_size=(1, 1), stride=(1, 1))\n",
       "   (pool1): MaxPool2d(kernel_size=2, stride=2, padding=0, dilation=1, ceil_mode=False)\n",
       "   (block3): Sequential(\n",
       "     (0): Conv2d(18, 10, kernel_size=(3, 3), stride=(1, 1))\n",
       "     (1): BatchNorm2d(10, eps=1e-05, momentum=0.1, affine=True, track_running_stats=True)\n",
       "     (2): Dropout(p=0.15, inplace=False)\n",
       "   )\n",
       "   (block4): Sequential(\n",
       "     (0): Conv2d(10, 8, kernel_size=(3, 3), stride=(1, 1))\n",
       "     (1): BatchNorm2d(8, eps=1e-05, momentum=0.1, affine=True, track_running_stats=True)\n",
       "     (2): Dropout(p=0.15, inplace=False)\n",
       "   )\n",
       "   (block5): Conv2d(8, 10, kernel_size=(3, 3), stride=(1, 1))\n",
       "   (pool2): AvgPool2d(kernel_size=6, stride=6, padding=0)\n",
       " ),\n",
       " None)"
      ]
     },
     "execution_count": 4,
     "metadata": {},
     "output_type": "execute_result"
    }
   ],
   "source": [
    "get_summary(model)"
   ]
  },
  {
   "cell_type": "code",
   "execution_count": null,
   "metadata": {},
   "outputs": [],
   "source": []
  },
  {
   "cell_type": "code",
   "execution_count": null,
   "metadata": {},
   "outputs": [],
   "source": []
  }
 ],
 "metadata": {
  "kernelspec": {
   "display_name": "Python 3",
   "language": "python",
   "name": "python3"
  },
  "language_info": {
   "codemirror_mode": {
    "name": "ipython",
    "version": 3
   },
   "file_extension": ".py",
   "mimetype": "text/x-python",
   "name": "python",
   "nbconvert_exporter": "python",
   "pygments_lexer": "ipython3",
   "version": "3.10.0"
  },
  "orig_nbformat": 4
 },
 "nbformat": 4,
 "nbformat_minor": 2
}
